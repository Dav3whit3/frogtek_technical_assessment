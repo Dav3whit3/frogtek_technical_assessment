{
 "cells": [
  {
   "cell_type": "markdown",
   "id": "exact-river",
   "metadata": {},
   "source": [
    "# Parte 3 - Reporting"
   ]
  },
  {
   "cell_type": "markdown",
   "id": "charged-vitamin",
   "metadata": {},
   "source": [
    "- Empleando Python 3 generar un fichero Excel que contenga tres pestañas.\n",
    "- Para este ejercicio las transformaciones queremos que se hagan en Pandas y no una\n",
    "sentencia SQL\n",
    "- Eplea el método/libreria de tu preferencia para generar el fichero Excel\n",
    "- La información que queremos que se muestre en cada una de las pestañas es una\n",
    "agrupación por mes y tipo de dia:\n",
    "    - MES: Tendrá el formato año-mes, por ejemplo 2020-01\n",
    "    -Tipo_dia: Tendrá el valor 1 si el viaje se realizó entre el lunes y el viernes\n",
    "(ambos inclusive) y 2 si se hizo en fin de semana\n",
    "    - Personas transportadas: El total de personas que han usado el servicio de Taxis\n",
    "para ese mes y tipo_dia\n",
    "    - Millas recorridas: El total de millas recorridas para ese mes y tipo_dia\n",
    "    - Total servicios: El total de servicios que realizados para ese mes y tipo_dia\n",
    "\n",
    "- Pestaña JFK: Tendrá la agrupación descrita para todos los viajes que tengan un 2 en la\n",
    "variable RateCodeID\n",
    "- Pestaña regular: Tendrá la agrupación descrita para todos los viajes que tengan un 1 en\n",
    "la variable RateCodeID\n",
    "- Pestaña Others: Tendrá la agrupación descrita para todos los viajes que no tengan ni un\n",
    "1 ni un 2 en la variable RateCodeID"
   ]
  },
  {
   "cell_type": "code",
   "execution_count": null,
   "id": "conceptual-fancy",
   "metadata": {},
   "outputs": [],
   "source": [
    "###########################################################################################################"
   ]
  },
  {
   "cell_type": "markdown",
   "id": "sapphire-commitment",
   "metadata": {},
   "source": [
    "# Tools "
   ]
  },
  {
   "cell_type": "code",
   "execution_count": 2,
   "id": "dangerous-monitoring",
   "metadata": {},
   "outputs": [],
   "source": [
    "import pandas as pd\n",
    "import openpyxl"
   ]
  },
  {
   "cell_type": "markdown",
   "id": "comparable-germany",
   "metadata": {},
   "source": [
    "# Data loading"
   ]
  },
  {
   "cell_type": "code",
   "execution_count": null,
   "id": "optional-easter",
   "metadata": {},
   "outputs": [],
   "source": [
    "name = \"../2020_yellow_jan_feb_mar.csv\"\n",
    "jan_feb_mar = pd.read_csv(name)"
   ]
  },
  {
   "cell_type": "code",
   "execution_count": null,
   "id": "alive-methodology",
   "metadata": {},
   "outputs": [],
   "source": [
    "jan_feb_mar"
   ]
  },
  {
   "cell_type": "markdown",
   "id": "specialized-usage",
   "metadata": {},
   "source": [
    "# Data manipulation"
   ]
  },
  {
   "cell_type": "code",
   "execution_count": null,
   "id": "baking-standard",
   "metadata": {},
   "outputs": [],
   "source": [
    "month_col = 'month'\n",
    "start_date_col = 'tpep_pickup_datetime'\n",
    "final_date_col = 'tpep_dropoff_datetime'\n",
    "passenger_col = 'passenger_count'\n",
    "distance_col = 'trip_distance'\n",
    "ratecode_col = 'RatecodeID'\n",
    "\n",
    "df = jan_feb_mar.copy()\n",
    "\n",
    "df = df[[month_col, start_date_col, final_date_col, passenger_col, distance_col, ratecode_col]]\n",
    "df = df[(df[start_date_col] > '2020-01-01') & (df[start_date_col] <= '2020-03-31')]\n",
    "\n",
    "type_object = df.select_dtypes(include='object').columns.to_list()\n",
    "for elem in type_object:\n",
    "        df[f\"{elem}\"] = pd.to_datetime(df[f\"{elem}\"], yearfirst=True, format=\"%Y/%m/%d %H:%M:%S\")\n",
    "        \n",
    "df['day_of_week'] = df['tpep_pickup_datetime'].dt.dayofweek\n",
    "df['tipo_dia'] = df['day_of_week'].apply(lambda x: 1 if x in range(0,5) else 2)\n",
    "df['total_servicios'] = 1\n",
    "df['mes'] = df['tpep_pickup_datetime'].dt.strftime('%Y-%m')\n",
    "\n",
    "df.rename(columns={\"trip_distance\": \"millas_recorridas\",\n",
    "                   \"passenger_count\":\"personas_transportadas\"}, \n",
    "          inplace=True)\n"
   ]
  },
  {
   "cell_type": "code",
   "execution_count": null,
   "id": "toxic-therapist",
   "metadata": {},
   "outputs": [],
   "source": [
    "df"
   ]
  },
  {
   "cell_type": "code",
   "execution_count": null,
   "id": "silent-democracy",
   "metadata": {},
   "outputs": [],
   "source": [
    "table = df.copy()\n",
    "table = table[['mes', 'tipo_dia', 'personas_transportadas', 'millas_recorridas', 'total_servicios', 'RatecodeID']]\n",
    "table"
   ]
  },
  {
   "cell_type": "markdown",
   "id": "acknowledged-radiation",
   "metadata": {},
   "source": [
    "- Pestaña JFK: Tendrá la agrupación descrita para todos los viajes que tengan un 2 en la\n",
    "variable RateCodeID"
   ]
  },
  {
   "cell_type": "code",
   "execution_count": null,
   "id": "heard-spain",
   "metadata": {},
   "outputs": [],
   "source": [
    "# Agrupamos por las variables indicadas\n",
    "jfk = table.copy()\n",
    "jfk = jfk.groupby(['mes', 'tipo_dia', 'RatecodeID']).sum().reset_index()\n",
    "jfk"
   ]
  },
  {
   "cell_type": "code",
   "execution_count": null,
   "id": "united-burning",
   "metadata": {},
   "outputs": [],
   "source": [
    "# Filtramos RaatecodeID = 2\n",
    "jfk = jfk[jfk['RatecodeID'] == 2]\n",
    "jfk"
   ]
  },
  {
   "cell_type": "code",
   "execution_count": null,
   "id": "passive-record",
   "metadata": {},
   "outputs": [],
   "source": [
    "jfk.drop(columns=['RatecodeID'], inplace=True)\n",
    "jfk"
   ]
  },
  {
   "cell_type": "markdown",
   "id": "opened-parking",
   "metadata": {},
   "source": [
    "- Pestaña regular: Tendrá la agrupación descrita para todos los viajes que tengan un 1 en\n",
    "la variable RateCodeID"
   ]
  },
  {
   "cell_type": "code",
   "execution_count": null,
   "id": "damaged-chain",
   "metadata": {},
   "outputs": [],
   "source": [
    "regular = table.copy()\n",
    "regular = regular.groupby(['mes', 'tipo_dia', 'RatecodeID']).sum().reset_index()\n",
    "regular"
   ]
  },
  {
   "cell_type": "code",
   "execution_count": null,
   "id": "standing-filename",
   "metadata": {},
   "outputs": [],
   "source": [
    "regular = regular[regular['RatecodeID'] == 1]\n",
    "regular"
   ]
  },
  {
   "cell_type": "code",
   "execution_count": null,
   "id": "african-reason",
   "metadata": {},
   "outputs": [],
   "source": [
    "regular.drop(columns=['RatecodeID'], inplace=True)\n",
    "regular"
   ]
  },
  {
   "cell_type": "markdown",
   "id": "floating-amazon",
   "metadata": {},
   "source": [
    "- Pestaña Others: Tendrá la agrupación descrita para todos los viajes que no tengan ni un\n",
    "1 ni un 2 en la variable RateCodeID"
   ]
  },
  {
   "cell_type": "code",
   "execution_count": null,
   "id": "acute-conditioning",
   "metadata": {},
   "outputs": [],
   "source": [
    "others = table.copy()\n",
    "others = others.groupby(['mes', 'tipo_dia', 'RatecodeID']).sum().reset_index()\n",
    "others"
   ]
  },
  {
   "cell_type": "code",
   "execution_count": null,
   "id": "metric-temperature",
   "metadata": {},
   "outputs": [],
   "source": [
    "others = others[(others['RatecodeID']) != 1 & (others['RatecodeID'] != 2)]\n",
    "others"
   ]
  },
  {
   "cell_type": "code",
   "execution_count": null,
   "id": "structured-sunset",
   "metadata": {},
   "outputs": [],
   "source": [
    "others.drop(columns=['RatecodeID'], inplace=True)\n",
    "others"
   ]
  },
  {
   "cell_type": "markdown",
   "id": "front-ordinary",
   "metadata": {},
   "source": [
    "# Reporting"
   ]
  },
  {
   "cell_type": "code",
   "execution_count": null,
   "id": "elect-strain",
   "metadata": {},
   "outputs": [],
   "source": [
    "with pd.ExcelWriter('report.xlsx') as writer:  \n",
    "    jfk.to_excel(writer, sheet_name='JFK')\n",
    "    regular.to_excel(writer, sheet_name='Regular')\n",
    "    others.to_excel(writer, sheet_name='Others')"
   ]
  }
 ],
 "metadata": {
  "kernelspec": {
   "display_name": "Python [conda env:work]",
   "language": "python",
   "name": "conda-env-work-py"
  },
  "language_info": {
   "codemirror_mode": {
    "name": "ipython",
    "version": 3
   },
   "file_extension": ".py",
   "mimetype": "text/x-python",
   "name": "python",
   "nbconvert_exporter": "python",
   "pygments_lexer": "ipython3",
   "version": "3.7.9"
  }
 },
 "nbformat": 4,
 "nbformat_minor": 5
}
