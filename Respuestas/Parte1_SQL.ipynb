{
 "cells": [
  {
   "cell_type": "markdown",
   "id": "consolidated-idaho",
   "metadata": {},
   "source": [
    "# Parte 1 - SQL"
   ]
  },
  {
   "cell_type": "markdown",
   "id": "mental-block",
   "metadata": {},
   "source": [
    "1. ¿Puedes describirnos el procedimiento que has seguido para cargar los tres ficheros?\n",
    "¿Puedes compartirnos la definición de la tabla que estás usando para contestar las\n",
    "preguntas planteadas?\n",
    "2. Una vez cargados los tres ficheros en tu base de datos, ¿cuántos registros tiene la\n",
    "tabla? Compártenos la SQL que has usado.\n",
    "3. Para cada uno de los tres meses con datos ¿podrías decirnos cuál es el trayecto más\n",
    "corto, más largo y el trayecto medio?, en distancia y en tiempo. Compártenos la\n",
    "sentencia SQL que has usado.\n",
    "4. Para cada uno de los tres meses con datos ¿podrías decirnos cuánta es la variación\n",
    "porcentual en el número de servicios registrados con respecto al mes anterior? Por\n",
    "ejemplo, en esta pregunta nos gustaría obtener un resultado así. Compártenos la\n",
    "sentencia SQL que has usado."
   ]
  },
  {
   "cell_type": "markdown",
   "id": "arctic-passenger",
   "metadata": {},
   "source": [
    "# Tools"
   ]
  },
  {
   "cell_type": "code",
   "execution_count": null,
   "id": "communist-indian",
   "metadata": {},
   "outputs": [],
   "source": [
    "from sqlalchemy import create_engine\n",
    "import psycopg2\n",
    "import psycopg2.extras as extras"
   ]
  }
 ],
 "metadata": {
  "kernelspec": {
   "display_name": "Python [conda env:work]",
   "language": "python",
   "name": "conda-env-work-py"
  },
  "language_info": {
   "codemirror_mode": {
    "name": "ipython",
    "version": 3
   },
   "file_extension": ".py",
   "mimetype": "text/x-python",
   "name": "python",
   "nbconvert_exporter": "python",
   "pygments_lexer": "ipython3",
   "version": "3.7.9"
  }
 },
 "nbformat": 4,
 "nbformat_minor": 5
}
