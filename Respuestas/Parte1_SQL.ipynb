{
 "cells": [
  {
   "cell_type": "markdown",
   "id": "noted-absence",
   "metadata": {},
   "source": [
    "# Parte 1 - SQL"
   ]
  },
  {
   "cell_type": "markdown",
   "id": "emerging-track",
   "metadata": {},
   "source": [
    "1. ¿Puedes describirnos el procedimiento que has seguido para cargar los tres ficheros?\n",
    "¿Puedes compartirnos la definición de la tabla que estás usando para contestar las\n",
    "preguntas planteadas?\n",
    "2. Una vez cargados los tres ficheros en tu base de datos, ¿cuántos registros tiene la\n",
    "tabla? Compártenos la SQL que has usado.\n",
    "3. Para cada uno de los tres meses con datos ¿podrías decirnos cuál es el trayecto más\n",
    "corto, más largo y el trayecto medio?, en distancia y en tiempo. Compártenos la\n",
    "sentencia SQL que has usado.\n",
    "4. Para cada uno de los tres meses con datos ¿podrías decirnos cuánta es la variación\n",
    "porcentual en el número de servicios registrados con respecto al mes anterior? Por\n",
    "ejemplo, en esta pregunta nos gustaría obtener un resultado así. Compártenos la\n",
    "sentencia SQL que has usado."
   ]
  },
  {
   "cell_type": "markdown",
   "id": "disabled-rating",
   "metadata": {},
   "source": [
    "# Tools"
   ]
  },
  {
   "cell_type": "code",
   "execution_count": 1,
   "id": "recognized-federation",
   "metadata": {},
   "outputs": [],
   "source": [
    "# Data extraction tools\n",
    "import requests\n",
    "from bs4 import BeautifulSoup\n",
    "\n",
    "#Data wrangling tools\n",
    "import pandas as pd\n",
    "import numpy as np\n",
    "\n",
    "#DataBase tools\n",
    "import psycopg2\n",
    "import psycopg2.extras as extras"
   ]
  },
  {
   "cell_type": "markdown",
   "id": "ignored-butter",
   "metadata": {},
   "source": [
    "# Data Extraction"
   ]
  },
  {
   "cell_type": "markdown",
   "id": "hidden-banner",
   "metadata": {},
   "source": [
    "1a) ¿Puedes describirnos el procedimiento que has seguido para cargar los tres ficheros?"
   ]
  },
  {
   "cell_type": "code",
   "execution_count": 2,
   "id": "subsequent-prague",
   "metadata": {},
   "outputs": [],
   "source": [
    "year_html = None "
   ]
  },
  {
   "cell_type": "code",
   "execution_count": 3,
   "id": "cooperative-concept",
   "metadata": {},
   "outputs": [],
   "source": [
    "def soup(year):\n",
    "    \n",
    "    url = \"https://www1.nyc.gov/site/tlc/about/tlc-trip-record-data.page\"\n",
    "    \n",
    "    print(f\"Asking for http content from {url}\")\n",
    "    response = requests.get(url).text\n",
    "    soup = BeautifulSoup(response, \"html.parser\")\n",
    "    \n",
    "    print(f\"Filtering by year provided: {year}...\")\n",
    "    global year_html\n",
    "    year_html = soup.find_all(\"div\", id=f\"faq{year}\")[0] \n",
    "    print(f\"html generated\")"
   ]
  },
  {
   "cell_type": "code",
   "execution_count": 4,
   "id": "rapid-means",
   "metadata": {},
   "outputs": [],
   "source": [
    "def single_month_links_df(year, month):\n",
    "    \n",
    "    months_available = [elem.get_text(strip=True) for elem in year_html.find_all(['b'])]\n",
    "    \n",
    "    print(f\"Checking month requested {month} vs months available in the html content...\")\n",
    "    if month not in months_available:\n",
    "        raise ValueError(f\"month provided does not match with available months, check spelling {months_available}\")\n",
    "    \n",
    "    print(f\"Month provided is valid. Filtering by month...\")\n",
    "    filter_by_month = year_html.find(string=f\"{month}\").parent.findNext('ul')\n",
    "    links = [elem.a['href'] for elem in filter_by_month.find_all('li')]\n",
    "    description = [elem.a.text for elem in filter_by_month.find_all('li')]\n",
    "    \n",
    "    single_month_links = pd.DataFrame({'month': month, 'links': links, 'description': description})\n",
    "    \n",
    "    pd.set_option('display.max_colwidth', None)\n",
    "    \n",
    "    return single_month_links"
   ]
  },
  {
   "cell_type": "code",
   "execution_count": 5,
   "id": "lasting-designation",
   "metadata": {},
   "outputs": [],
   "source": [
    "def all_months_links_df(year, *month):\n",
    "    \n",
    "    links = pd.DataFrame()\n",
    "    \n",
    "    for elem in month:\n",
    "        links = links.append(single_month_links_df(year, elem), ignore_index=True)\n",
    " \n",
    "    print(\"Generating csv links table\")\n",
    "    \n",
    "    return links"
   ]
  },
  {
   "cell_type": "code",
   "execution_count": 6,
   "id": "correct-macintosh",
   "metadata": {},
   "outputs": [],
   "source": [
    "def time_lapse(seconds):\n",
    "    seconds_in_day = 60 * 60 * 24\n",
    "    seconds_in_hour = 60 * 60\n",
    "    seconds_in_minute = 60\n",
    "    \n",
    "    days = seconds // seconds_in_day\n",
    "    hours = (seconds - (days * seconds_in_day)) // seconds_in_hour\n",
    "    minutes = (seconds - (days * seconds_in_day) - (hours * seconds_in_hour)) // seconds_in_minute\n",
    "    \n",
    "    return f\"{days} days, {hours} hours, {minutes} minutes\""
   ]
  },
  {
   "cell_type": "code",
   "execution_count": 7,
   "id": "agricultural-fetish",
   "metadata": {},
   "outputs": [],
   "source": [
    "def csv_to_df(year, taxi_color ,*month):\n",
    "    \n",
    "    soup(year) ###\n",
    "    \n",
    "    print(f\"list of months requested: {month}\")\n",
    "    links_table = all_months_links_df(year, *month)\n",
    "    links_table = links_table[links_table['description'].str.contains(taxi_color)][['month','links']]\n",
    "    print(links_table['links'])\n",
    "    \n",
    "    final_df = pd.DataFrame()\n",
    "    \n",
    "    print(\"Starting parsing process:\")\n",
    "    for index, elem in enumerate(links_table['links']):\n",
    "        print(f\"Parsing csv {elem}...\")\n",
    "        #m =  month[index]\n",
    "        df = pd.read_csv(elem)\n",
    "        df.insert(1, 'month', month[index])\n",
    "        #df['month'] = m\n",
    "        final_df = final_df.append(df, ignore_index=True)\n",
    "        print(\"Parsing completed\")\n",
    "    \n",
    "    type_object = final_df.select_dtypes(include='object').columns.to_list()\n",
    "    type_object.remove('store_and_fwd_flag')\n",
    "    type_object.remove('month')\n",
    "    \n",
    "    for elem in type_object:\n",
    "        final_df[f\"{elem}\"] = pd.to_datetime(final_df[f\"{elem}\"], yearfirst=True, format=\"%Y/%m/%d %H:%M:%S\")\n",
    "    \n",
    "    final_df['month'] = pd.to_datetime(final_df['month'], format=\"%B\").dt.month  \n",
    "    \n",
    "    trip_duration_seconds = (final_df['tpep_dropoff_datetime'] - final_df['tpep_pickup_datetime']).astype('timedelta64[s]').astype('int')\n",
    "    trip_duration = trip_duration_seconds.apply(time_lapse)\n",
    "    \n",
    "    final_df.insert(4, 'trip_duration_seconds', trip_duration_seconds)\n",
    "    final_df.insert(5, 'trip_duration', trip_duration)\n",
    "    \n",
    "    return final_df"
   ]
  },
  {
   "cell_type": "code",
   "execution_count": 8,
   "id": "sacred-pontiac",
   "metadata": {},
   "outputs": [],
   "source": [
    "#yellowtaxis_2020= csv_to_df(2020, 'Yellow', 'January', 'February', 'March')\n",
    "#name = \"2020_yellow_jan_feb_mar.csv\"\n",
    "#yellowtaxis_2020.to_csv(name, index=False)"
   ]
  },
  {
   "cell_type": "markdown",
   "id": "political-evolution",
   "metadata": {},
   "source": [
    "# DataBase creation"
   ]
  },
  {
   "cell_type": "markdown",
   "id": "mineral-mediterranean",
   "metadata": {},
   "source": [
    "1b) ¿Puedes compartirnos la definición de la tabla que estás usando para contestar las\n",
    "preguntas planteadas?"
   ]
  },
  {
   "cell_type": "code",
   "execution_count": 9,
   "id": "sublime-cambodia",
   "metadata": {},
   "outputs": [],
   "source": [
    "postgres_server_param_dic = {\n",
    "    \"host\"      : \"127.0.0.1\",\n",
    "    \"database\"  : \"postgres\",\n",
    "    \"user\"      : \"postgres\",\n",
    "    \"password\"  : \"Snowdav3\"\n",
    "}\n",
    "\n",
    "db_param_dic = {\n",
    "    \"host\"      : \"127.0.0.1\",\n",
    "    \"database\"  : \"taxis\",\n",
    "    \"user\"      : \"postgres\",\n",
    "    \"password\"  : \"Snowdav3\"\n",
    "}"
   ]
  },
  {
   "cell_type": "code",
   "execution_count": 10,
   "id": "native-parliament",
   "metadata": {},
   "outputs": [],
   "source": [
    "def connect(params_dic):\n",
    "    \"\"\" Connect to the PostgreSQL database server \"\"\"\n",
    "    conn = None\n",
    "    try:\n",
    "        # connect to the PostgreSQL server\n",
    "        print('Connecting to the PostgreSQL database...')\n",
    "        conn = psycopg2.connect(**params_dic)\n",
    "    except (Exception, psycopg2.DatabaseError) as error:\n",
    "        print(error)\n",
    "        sys.exit(1) \n",
    "    print('Connection succesful')\n",
    "    \n",
    "    return conn"
   ]
  },
  {
   "cell_type": "code",
   "execution_count": 11,
   "id": "usual-terror",
   "metadata": {},
   "outputs": [],
   "source": [
    "def create_database(database_name):\n",
    "    \n",
    "    conn = connect(postgres_server_param_dic)\n",
    "    conn.autocommit = True\n",
    "    cursor = conn.cursor()\n",
    "    sql_create_db = f'''CREATE database {database_name};'''\n",
    "    print(f\"Creating database {database_name}...\")\n",
    "    cursor.execute(sql_create_db)\n",
    "    print(f\"Database {database_name} created successfully !\")\n",
    "    conn.close()"
   ]
  },
  {
   "cell_type": "code",
   "execution_count": 12,
   "id": "collectible-earthquake",
   "metadata": {},
   "outputs": [],
   "source": [
    "def creating_table(table_name: str):\n",
    "    \n",
    "    conn = connect(db_param_dic)\n",
    "    cursor = conn.cursor()\n",
    "    \n",
    "    sql =f'''CREATE TABLE {table_name}(\n",
    "       VendorID float,\n",
    "       month int,\n",
    "       tpep_pickup_datetime timestamp,\n",
    "       tpep_dropoff_datetime timestamp,\n",
    "       trip_duration_seconds int,\n",
    "       trip_duration varchar,\n",
    "       passenger_count float,\n",
    "       trip_distance float,\n",
    "       RatecodeID float,\n",
    "       store_and_fwd_flag varchar,\n",
    "       PULocationID float,\n",
    "       DOLocationID float,\n",
    "       payment_type float,\n",
    "       fare_amount float,\n",
    "       extra float,\n",
    "       mta_tax float,\n",
    "       tip_amount float,\n",
    "       tolls_amount float,\n",
    "       improvement_surcharge float,\n",
    "       total_amount float,\n",
    "       congestion_surcharge float\n",
    "    );'''\n",
    "    \n",
    "    print(f\"Creating table {table_name}\")\n",
    "    cursor.execute(sql)\n",
    "    print(f\"Table {table_name} created Successfully !\")\n",
    "    conn.commit()\n",
    "    #cursor.close()\n",
    "    #print(\"Cursor object closed\")\n",
    "    conn.rollback()\n",
    "    #print(f\"Closing {conn.info.dbname} database conection\")\n",
    "    #conn.close()\n",
    "    #print(\"Conection closed.\")"
   ]
  },
  {
   "cell_type": "markdown",
   "id": "fixed-elimination",
   "metadata": {},
   "source": [
    "DataBase Insertion"
   ]
  },
  {
   "cell_type": "code",
   "execution_count": 13,
   "id": "opposite-steel",
   "metadata": {},
   "outputs": [],
   "source": [
    "def execute_batch(database_name: str,table_name: str, year: int, taxi_color: str, *month, page_size=100,):\n",
    "    \n",
    "    '''\n",
    "    \n",
    "    '''\n",
    "\n",
    "    df = csv_to_df(year, taxi_color, *month)\n",
    "    \n",
    "    print(\"Converting DataFrame rows to tuples\")\n",
    "    tuples = [tuple(x) for x in df.to_numpy()]\n",
    "    # Comma-separated dataframe columns\n",
    "    cols = ','.join(list(df.columns))\n",
    "    \n",
    "    create_database(database_name)\n",
    "    creating_table(table_name)\n",
    "    \n",
    "    # SQL quert to execute\n",
    "    query  = \"INSERT INTO %s(%s) VALUES(%%s,%%s,%%s,%%s,%%s,%%s,%%s,%%s,%%s,%%s,%%s,%%s,%%s,%%s,%%s,%%s,%%s,%%s,%%s,%%s,%%s)\" % (table_name, cols)\n",
    "    conn = connect(db_param_dic)\n",
    "    cursor = conn.cursor()\n",
    "    try:\n",
    "        print(f\"Inserting values into the {table_name} table at {conn.info.dbname} database. Please wait, this may take a few minutes...\")\n",
    "        extras.execute_batch(cursor, query, tuples, page_size)\n",
    "        conn.commit()\n",
    "    except (Exception, psycopg2.DatabaseError) as error:\n",
    "        print(\"Error: %s\" % error)\n",
    "        conn.rollback()\n",
    "        cursor.close()\n",
    "        return 1\n",
    "    print(f\"Batch executed succesfully, all dataframe values inserted into the {table_name} table at {conn.info.dbname}\")\n",
    "    \n",
    "    print(\"Closing cursor object...\")\n",
    "    cursor.close()\n",
    "    print(\"Cursor object closed.\")\n",
    "    print(f\"Closing {conn.info.dbname} database conection...\")\n",
    "    conn.close()\n",
    "    print(\"database conection closed.\")\n",
    "      "
   ]
  },
  {
   "cell_type": "code",
   "execution_count": 14,
   "id": "compact-designer",
   "metadata": {},
   "outputs": [
    {
     "name": "stdout",
     "output_type": "stream",
     "text": [
      "Asking for http content from https://www1.nyc.gov/site/tlc/about/tlc-trip-record-data.page\n",
      "Filtering by year provided: 2020...\n",
      "html generated\n",
      "list of months requested: ('January', 'February', 'March')\n",
      "Checking month requested January vs months available in the html content...\n",
      "Month provided is valid. Filtering by month...\n",
      "Checking month requested February vs months available in the html content...\n",
      "Month provided is valid. Filtering by month...\n",
      "Checking month requested March vs months available in the html content...\n",
      "Month provided is valid. Filtering by month...\n",
      "Generating csv links table\n",
      "0    https://s3.amazonaws.com/nyc-tlc/trip+data/yellow_tripdata_2020-01.csv\n",
      "4    https://s3.amazonaws.com/nyc-tlc/trip+data/yellow_tripdata_2020-02.csv\n",
      "8    https://s3.amazonaws.com/nyc-tlc/trip+data/yellow_tripdata_2020-03.csv\n",
      "Name: links, dtype: object\n",
      "Starting parsing process:\n",
      "Parsing csv https://s3.amazonaws.com/nyc-tlc/trip+data/yellow_tripdata_2020-01.csv...\n"
     ]
    },
    {
     "name": "stderr",
     "output_type": "stream",
     "text": [
      "/home/david/miniconda3/envs/work/lib/python3.7/site-packages/IPython/core/interactiveshell.py:3418: DtypeWarning: Columns (6) have mixed types.Specify dtype option on import or set low_memory=False.\n",
      "  exec(code_obj, self.user_global_ns, self.user_ns)\n"
     ]
    },
    {
     "name": "stdout",
     "output_type": "stream",
     "text": [
      "Parsing completed\n",
      "Parsing csv https://s3.amazonaws.com/nyc-tlc/trip+data/yellow_tripdata_2020-02.csv...\n",
      "Parsing completed\n",
      "Parsing csv https://s3.amazonaws.com/nyc-tlc/trip+data/yellow_tripdata_2020-03.csv...\n",
      "Parsing completed\n",
      "Converting DataFrame rows to tuples\n",
      "Connecting to the PostgreSQL database...\n",
      "Connection succesful\n",
      "Creating database taxis\n",
      "Database taxis created successfully !\n",
      "Connecting to the PostgreSQL database...\n",
      "Connection succesful\n",
      "Creating table yellowtaxis\n",
      "Table yellowtaxis created Successfully !\n",
      "Connecting to the PostgreSQL database...\n",
      "Connection succesful\n",
      "Inserting values into the yellowtaxis table at taxis database. Please wait, this may take a few minutes...\n",
      "Batch executed succesfully, all dataframe values inserted into the yellowtaxis table at taxis\n",
      "Closing cursor object...\n",
      "Cursor object closed.\n",
      "Closing taxis database conection...\n",
      "None database conection closed.\n"
     ]
    }
   ],
   "source": [
    "execute_batch('taxis', 'yellowtaxis', 2020, 'Yellow', 'January', 'February', 'March')"
   ]
  },
  {
   "cell_type": "code",
   "execution_count": 15,
   "id": "noble-nightlife",
   "metadata": {},
   "outputs": [
    {
     "ename": "ValueError",
     "evalue": "Stop here",
     "output_type": "error",
     "traceback": [
      "\u001b[0;31m---------------------------------------------------------------------------\u001b[0m",
      "\u001b[0;31mValueError\u001b[0m                                Traceback (most recent call last)",
      "\u001b[0;32m<ipython-input-15-b05f6e05646c>\u001b[0m in \u001b[0;36m<module>\u001b[0;34m\u001b[0m\n\u001b[0;32m----> 1\u001b[0;31m \u001b[0;32mraise\u001b[0m \u001b[0mValueError\u001b[0m\u001b[0;34m(\u001b[0m\u001b[0;34m\"Stop here\"\u001b[0m\u001b[0;34m)\u001b[0m\u001b[0;34m\u001b[0m\u001b[0;34m\u001b[0m\u001b[0m\n\u001b[0m",
      "\u001b[0;31mValueError\u001b[0m: Stop here"
     ]
    }
   ],
   "source": [
    "raise ValueError(\"Stop here\")"
   ]
  },
  {
   "cell_type": "code",
   "execution_count": null,
   "id": "veterinary-coast",
   "metadata": {},
   "outputs": [],
   "source": [
    "############################################################################################################"
   ]
  },
  {
   "cell_type": "code",
   "execution_count": null,
   "id": "cultural-frost",
   "metadata": {},
   "outputs": [],
   "source": [
    "############################################################################################################"
   ]
  },
  {
   "cell_type": "markdown",
   "id": "simplified-wallet",
   "metadata": {},
   "source": [
    "2. Una vez cargados los tres ficheros en tu base de datos, ¿cuántos registros tiene la\n",
    "tabla? Compártenos la SQL que has usado."
   ]
  },
  {
   "cell_type": "code",
   "execution_count": null,
   "id": "partial-adolescent",
   "metadata": {},
   "outputs": [],
   "source": [
    "registros = '''SELECT COUNT(vendorid) AS registros_totales\n",
    "FROM yellowtaxis;\n",
    "'''\n",
    "conn.rollback()\n",
    "cursor = conn.cursor()\n",
    "cursor.execute(registros)\n",
    "result = cursor.fetchall()[0]\n",
    "print(f\"La tabla yellowtaxis de la database {conn.info.dbname} contiene {result[0]} registros\")"
   ]
  },
  {
   "cell_type": "markdown",
   "id": "recognized-pottery",
   "metadata": {},
   "source": [
    "3. Para cada uno de los tres meses con datos ¿podrías decirnos cuál es el trayecto más\n",
    "corto, más largo y el trayecto medio?, en distancia y en tiempo. Compártenos la\n",
    "sentencia SQL que has usado."
   ]
  },
  {
   "cell_type": "code",
   "execution_count": null,
   "id": "statistical-american",
   "metadata": {},
   "outputs": [],
   "source": [
    "def execute_sql_query(month: int, trip_metric, trip_measure):\n",
    "    \n",
    "    query = None\n",
    "    if trip_metric == 'longest':\n",
    "        if trip_measure == 'time':\n",
    "            longest_trip_time = f'''\n",
    "                SELECT vendorid, month, tpep_pickup_datetime, tpep_dropoff_datetime, trip_duration_seconds, trip_duration\n",
    "                FROM yellowtaxis\n",
    "                WHERE month = '{month}'\n",
    "                ORDER BY trip_duration_seconds DESC\n",
    "                LIMIT 1;\n",
    "            '''\n",
    "            query = longest_trip_time\n",
    "        elif trip_measure == 'distance':\n",
    "            longest_trip_distance = f'''\n",
    "                SELECT vendorid, month, tpep_pickup_datetime, tpep_dropoff_datetime,\n",
    "                trip_duration_seconds, trip_duration, trip_distance\n",
    "                FROM yellowtaxis\n",
    "                WHERE month = '{month}'\n",
    "                ORDER BY trip_distance DESC\n",
    "                LIMIT 1;\n",
    "            '''\n",
    "            query = longest_trip_distance\n",
    "            \n",
    "    elif trip_metric == 'shortest':\n",
    "        if trip_measure == 'time':\n",
    "            shortest_trip_time = f'''\n",
    "                SELECT *\n",
    "                FROM yellowtaxis\n",
    "                WHERE month = '{month}' AND trip_distance > 0 AND trip_duration_seconds > 0\n",
    "                ORDER BY trip_duration_seconds ASC,\n",
    "                trip_distance ASC\n",
    "                LIMIT 1;\n",
    "\n",
    "            '''\n",
    "            query = shortest_trip_time\n",
    "            \n",
    "        elif trip_measure == 'distance':\n",
    "            shortest_trip_distance = f'''\n",
    "                SELECT *\n",
    "                FROM yellowtaxis\n",
    "                WHERE month = '{month}' AND trip_distance > 0 AND trip_duration_seconds > 0\n",
    "                ORDER BY trip_distance ASC,\n",
    "                trip_duration_seconds ASC\n",
    "                LIMIT 1;\n",
    "\n",
    "            '''\n",
    "            query = shortest_trip_distance\n",
    "    \n",
    "    elif trip_metric == 'average':\n",
    "        if trip_measure == 'time':\n",
    "            avg_trip_time = f'''\n",
    "                SELECT AVG(trip_duration_seconds) AS trip_duration_avg\n",
    "                FROM yellowtaxis\n",
    "                WHERE month = '{month}' AND trip_distance > 0 AND trip_duration_seconds > 0\n",
    "\n",
    "            '''\n",
    "            query = avg_trip_time\n",
    "            \n",
    "        elif trip_measure == 'distance':\n",
    "            avg_trip_distance = f'''\n",
    "                SELECT AVG(trip_distance) AS trip_distance_avg\n",
    "                FROM yellowtaxis\n",
    "                WHERE month = '{month}' AND trip_distance > 0 AND trip_duration_seconds > 0\n",
    "\n",
    "            '''\n",
    "            query =  avg_trip_distance\n",
    "    \n",
    "    cursor.execute(query)\n",
    "    result = cursor.fetchall()[0]\n",
    "    \n",
    "    return result"
   ]
  },
  {
   "cell_type": "code",
   "execution_count": null,
   "id": "color-friendly",
   "metadata": {},
   "outputs": [],
   "source": [
    "conn = connect(db_param_dic)"
   ]
  },
  {
   "cell_type": "markdown",
   "id": "excessive-norfolk",
   "metadata": {},
   "source": [
    "January"
   ]
  },
  {
   "cell_type": "code",
   "execution_count": null,
   "id": "rough-capital",
   "metadata": {},
   "outputs": [],
   "source": [
    "# Longest time\n",
    "jan_lg_t = execute_sql_query(1, 'longest', 'time')\n",
    "print()\n",
    "print(f\"Longest yellow taxi trip time from January 2020 took: {jan_lg_t[-1]}\")\n",
    "print()\n",
    "\n",
    "# Longest distance\n",
    "\n",
    "jan_lg_d = execute_sql_query(1, 'longest', 'distance')\n",
    "print()\n",
    "print(f\"Longest yellow taxi trip distance from January 2020 was: {jan_lg_d[-1]} miles\")\n",
    "print()"
   ]
  },
  {
   "cell_type": "code",
   "execution_count": null,
   "id": "damaged-auditor",
   "metadata": {},
   "outputs": [],
   "source": [
    "# Shortest time\n",
    "jan_st_t = execute_sql_query(1, 'shortest', 'time')\n",
    "print()\n",
    "print(f\"Shortest yellow taxi trip time from January 2020 took: {jan_st_t[4]} seconds\")\n",
    "print()\n",
    "\n",
    "# Shortest distance\n",
    "jan_st_d = execute_sql_query(1, 'shortest', 'distance')\n",
    "print()\n",
    "print(f\"Shortest yellow taxi trip distance from January 2020 was: {jan_st_d[7]} miles\")\n",
    "print()"
   ]
  },
  {
   "cell_type": "code",
   "execution_count": null,
   "id": "cathedral-logic",
   "metadata": {},
   "outputs": [],
   "source": [
    "# Average\n",
    "jan_avg_t = execute_sql_query(1, 'average', 'time')\n",
    "print()\n",
    "print(f\"Average yellow taxi trip time from January 2020 was: {time_lapse(jan_avg_t[0])}\")\n",
    "print()\n",
    "\n",
    "# Average distance\n",
    "jan_avg_d = execute_sql_query(1, 'average', 'distance')\n",
    "print()\n",
    "print(f\"Average yellow taxi trip distance from January 2020 was: {jan_avg_d[0]} miles\")\n",
    "print()"
   ]
  },
  {
   "cell_type": "markdown",
   "id": "eastern-threshold",
   "metadata": {},
   "source": [
    "February"
   ]
  },
  {
   "cell_type": "code",
   "execution_count": null,
   "id": "later-handbook",
   "metadata": {},
   "outputs": [],
   "source": [
    "feb_lg_t = execute_sql_query(2, 'longest', 'time')\n",
    "print()\n",
    "print(f\"Longest yellow taxi trip time from February 2020 took: {feb_lg_t[-1]}\")\n",
    "print()\n",
    "\n",
    "# Longest distance\n",
    "\n",
    "feb_lg_d = execute_sql_query(2, 'longest', 'distance')\n",
    "print()\n",
    "print(f\"Longest yellow taxi trip distance from February 2020 was: {feb_lg_d[-1]} miles\")\n",
    "print()"
   ]
  },
  {
   "cell_type": "code",
   "execution_count": null,
   "id": "beginning-valuable",
   "metadata": {},
   "outputs": [],
   "source": [
    "# Shortest time\n",
    "feb_st_t = execute_sql_query(2, 'shortest', 'time')\n",
    "print()\n",
    "print(f\"Shortest yellow taxi trip time from February 2020 took: {feb_st_t[4]} seconds\")\n",
    "print()\n",
    "\n",
    "# Shortest distance\n",
    "feb_st_d = execute_sql_query(2, 'shortest', 'distance')\n",
    "print()\n",
    "print(f\"Shortest yellow taxi trip distance from February 2020 was: {feb_st_d[7]} miles\")\n",
    "print()"
   ]
  },
  {
   "cell_type": "code",
   "execution_count": null,
   "id": "premium-tourism",
   "metadata": {},
   "outputs": [],
   "source": [
    "# Average\n",
    "feb_avg_t =  execute_sql_query(2, 'average', 'time')\n",
    "print()\n",
    "print(f\"Average yellow taxi trip time from February 2020 was: {time_lapse(feb_avg_t[0])}\")\n",
    "print()\n",
    "\n",
    "# Average distance\n",
    "feb_avg_d = execute_sql_query(2, 'average', 'distance')\n",
    "print()\n",
    "print(f\"Average yellow taxi trip distance from February 2020 was: {feb_avg_d[0]} miles\")\n",
    "print()"
   ]
  },
  {
   "cell_type": "markdown",
   "id": "indirect-opinion",
   "metadata": {},
   "source": [
    "March"
   ]
  },
  {
   "cell_type": "code",
   "execution_count": null,
   "id": "secure-request",
   "metadata": {},
   "outputs": [],
   "source": [
    "mar_lg_t = execute_sql_query(3, 'longest', 'time')\n",
    "print()\n",
    "print(f\"Longest yellow taxi trip time from March 2020 took: {mar_lg_t[-1]}\")\n",
    "print()\n",
    "\n",
    "# Longest distance\n",
    "mar_lg_d = execute_sql_query(3, 'longest', 'distance')\n",
    "print()\n",
    "print(f\"Longest yellow taxi trip distance from March 2020 was: {mar_lg_d[-1]} miles\")\n",
    "print()"
   ]
  },
  {
   "cell_type": "code",
   "execution_count": null,
   "id": "signal-amendment",
   "metadata": {},
   "outputs": [],
   "source": [
    "# Shortest time\n",
    "mar_st_t = execute_sql_query(3, 'shortest', 'time')\n",
    "print()\n",
    "print(f\"Shortest yellow taxi trip time from February 2020 took: {jan_st_t[4]} seconds\")\n",
    "print()\n",
    "\n",
    "# Shortest distance\n",
    "mar_st_d = execute_sql_query(3, 'shortest', 'distance')\n",
    "print()\n",
    "print(f\"Shortest yellow taxi trip distance from March 2020 was: {mar_st_d[7]} miles\")\n",
    "print()"
   ]
  },
  {
   "cell_type": "code",
   "execution_count": null,
   "id": "mathematical-sport",
   "metadata": {},
   "outputs": [],
   "source": [
    "# Average\n",
    "mar_avg_t = execute_sql_query(3, 'average', 'time')\n",
    "print()\n",
    "print(f\"Average yellow taxi trip time from March 2020 was: {time_lapse(mar_avg_t[0])}\")\n",
    "print()\n",
    "\n",
    "# Average distance\n",
    "mar_avg_d = execute_sql_query(3, 'average', 'distance')\n",
    "print()\n",
    "print(f\"Average yellow taxi trip distance from March 2020 was: {mar_avg_d[0]} miles\")\n",
    "print()"
   ]
  },
  {
   "cell_type": "code",
   "execution_count": null,
   "id": "portable-hotel",
   "metadata": {},
   "outputs": [],
   "source": []
  },
  {
   "cell_type": "markdown",
   "id": "sustainable-pollution",
   "metadata": {},
   "source": [
    "4. Para cada uno de los tres meses con datos ¿podrías decirnos cuánta es la variación\n",
    "porcentual en el número de servicios registrados con respecto al mes anterior? Por\n",
    "ejemplo, en esta pregunta nos gustaría obtener un resultado así. Compártenos la\n",
    "sentencia SQL que has usado."
   ]
  },
  {
   "cell_type": "code",
   "execution_count": null,
   "id": "stopped-electric",
   "metadata": {},
   "outputs": [],
   "source": [
    "var_jan_feb = '''\n",
    "WITH variacion AS(\n",
    "\tWITH previous AS(\t\n",
    "\t\tSELECT month, COUNT(vendorid) AS servicios\n",
    "\t\tFROM yellowtaxis\n",
    "\t\tWHERE month = '1' OR month = '2'\n",
    "\t\tGROUP BY month\n",
    "\n",
    "\t)\n",
    "\tSELECT *,\n",
    "\tLAG (servicios, 1) OVER (ORDER BY month) servicios_mes_anterior\n",
    "\tFROM previous\n",
    ")\n",
    "SELECT month, servicios, CAST(\n",
    "\tCAST(\n",
    "\t\t(servicios - servicios_mes_anterior) * 100.00 / servicios_mes_anterior as decimal(4,1)\n",
    "\t) as decimal(4,2)\n",
    ")\n",
    "AS \"variacion_mes_anterior (%)\"\n",
    "FROM variacion;\n",
    "'''\n",
    "conn.rollback()\n",
    "cursor.execute(var_jan_feb)\n",
    "result = cursor.fetchall()\n",
    "pd.DataFrame(result, columns=['mes', 'servicios', 'variacion_mes_anterior (%)'])"
   ]
  },
  {
   "cell_type": "code",
   "execution_count": null,
   "id": "robust-convergence",
   "metadata": {},
   "outputs": [],
   "source": [
    "var_feb_mar = '''\n",
    "WITH variacion AS(\n",
    "\tWITH previous AS(\t\n",
    "\t\tSELECT month, COUNT(vendorid) AS servicios\n",
    "\t\tFROM yellowtaxis\n",
    "\t\tWHERE month = '2' OR month = '3'\n",
    "\t\tGROUP BY month\n",
    "\n",
    "\t)\n",
    "\tSELECT *,\n",
    "\tLAG (servicios, 1) OVER (ORDER BY month) servicios_mes_anterior\n",
    "\tFROM previous\n",
    ")\n",
    "SELECT month, servicios, CAST(\n",
    "\tCAST(\n",
    "\t\t(servicios - servicios_mes_anterior) * 100.00 / servicios_mes_anterior as decimal(4,1)\n",
    "\t) as decimal(4,2)\n",
    ")\n",
    "AS \"variacion_mes_anterior (%)\"\n",
    "FROM variacion;\n",
    "'''\n",
    "conn.rollback()\n",
    "\n",
    "cursor.execute(var_feb_mar)\n",
    "result = cursor.fetchall()\n",
    "pd.DataFrame(result, columns=['mes', 'servicios', 'variacion_mes_anterior (%)'])"
   ]
  },
  {
   "cell_type": "code",
   "execution_count": null,
   "id": "capable-twist",
   "metadata": {},
   "outputs": [],
   "source": []
  }
 ],
 "metadata": {
  "kernelspec": {
   "display_name": "Python [conda env:work]",
   "language": "python",
   "name": "conda-env-work-py"
  },
  "language_info": {
   "codemirror_mode": {
    "name": "ipython",
    "version": 3
   },
   "file_extension": ".py",
   "mimetype": "text/x-python",
   "name": "python",
   "nbconvert_exporter": "python",
   "pygments_lexer": "ipython3",
   "version": "3.7.9"
  }
 },
 "nbformat": 4,
 "nbformat_minor": 5
}
