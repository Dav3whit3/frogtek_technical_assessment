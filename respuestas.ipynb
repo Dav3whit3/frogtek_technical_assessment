{
 "cells": [
  {
   "cell_type": "code",
   "execution_count": 1,
   "id": "lesbian-rubber",
   "metadata": {},
   "outputs": [],
   "source": [
    "from sqlalchemy import create_engine\n",
    "import psycopg2\n",
    "import psycopg2.extras as extras"
   ]
  },
  {
   "cell_type": "code",
   "execution_count": 2,
   "id": "hired-feeling",
   "metadata": {},
   "outputs": [],
   "source": [
    "param_dic = {\n",
    "    \"host\"      : \"127.0.0.1\",\n",
    "    \"database\"  : \"taxis\",\n",
    "    \"user\"      : \"postgres\",\n",
    "    \"password\"  : \"Snowdav3\"\n",
    "}"
   ]
  },
  {
   "cell_type": "code",
   "execution_count": 3,
   "id": "suited-testimony",
   "metadata": {},
   "outputs": [
    {
     "name": "stdout",
     "output_type": "stream",
     "text": [
      "Connecting to the PostgreSQL database...\n",
      "Connection succesful\n"
     ]
    }
   ],
   "source": [
    "def connect(params_dic):\n",
    "    \"\"\" Connect to the PostgreSQL database server \"\"\"\n",
    "    conn = None\n",
    "    try:\n",
    "        # connect to the PostgreSQL server\n",
    "        print('Connecting to the PostgreSQL database...')\n",
    "        conn = psycopg2.connect(**params_dic)\n",
    "    except (Exception, psycopg2.DatabaseError) as error:\n",
    "        print(error)\n",
    "        sys.exit(1) \n",
    "    print('Connection succesful')\n",
    "    \n",
    "    return conn\n",
    "\n",
    "conn = connect(param_dic)\n",
    "cursor = conn. cursor()"
   ]
  },
  {
   "cell_type": "code",
   "execution_count": 26,
   "id": "federal-seeking",
   "metadata": {},
   "outputs": [],
   "source": [
    "def time_lapse(seconds):\n",
    "    seconds_in_day = 60 * 60 * 24\n",
    "    seconds_in_hour = 60 * 60\n",
    "    seconds_in_minute = 60\n",
    "    \n",
    "    days = seconds // seconds_in_day\n",
    "    hours = (seconds - (days * seconds_in_day)) // seconds_in_hour\n",
    "    minutes = (seconds - (days * seconds_in_day) - (hours * seconds_in_hour)) // seconds_in_minute\n",
    "    \n",
    "    return f\"{days} days, {hours} hours, {minutes} minutes\""
   ]
  },
  {
   "cell_type": "markdown",
   "id": "returning-mandate",
   "metadata": {},
   "source": [
    "# Parte 1 - SQL"
   ]
  },
  {
   "cell_type": "markdown",
   "id": "funded-mouth",
   "metadata": {},
   "source": [
    "1. \n",
    "    a) ¿Puedes describirnos el procedimiento que has seguido para cargar los tres ficheros?"
   ]
  },
  {
   "cell_type": "markdown",
   "id": "superior-brief",
   "metadata": {},
   "source": [
    "1.    \n",
    "    b) ¿Puedes compartirnos la definición de la tabla que estás usando para contestar las\n",
    "preguntas planteadas?"
   ]
  },
  {
   "cell_type": "markdown",
   "id": "broadband-marketing",
   "metadata": {},
   "source": []
  },
  {
   "cell_type": "markdown",
   "id": "bridal-footwear",
   "metadata": {},
   "source": [
    "2. Una vez cargados los tres ficheros en tu base de datos, ¿cuántos registros tiene la\n",
    "tabla? Compártenos la SQL que has usado."
   ]
  },
  {
   "cell_type": "markdown",
   "id": "filled-murray",
   "metadata": {},
   "source": []
  },
  {
   "cell_type": "markdown",
   "id": "associate-contrast",
   "metadata": {},
   "source": [
    "3. Para cada uno de los tres meses con datos ¿podrías decirnos cuál es el trayecto más\n",
    "corto, más largo y el trayecto medio?, en distancia y en tiempo. Compártenos la\n",
    "sentencia SQL que has usado.\n"
   ]
  },
  {
   "cell_type": "code",
   "execution_count": 4,
   "id": "inside-creator",
   "metadata": {},
   "outputs": [],
   "source": [
    "def execute(query):\n",
    "    \n",
    "    cursor.execute(query)\n",
    "    result = cursor.fetchall()[0]\n",
    "    \n",
    "    return result"
   ]
  },
  {
   "cell_type": "markdown",
   "id": "immune-ottawa",
   "metadata": {},
   "source": [
    "        January"
   ]
  },
  {
   "cell_type": "code",
   "execution_count": 12,
   "id": "norwegian-inflation",
   "metadata": {},
   "outputs": [
    {
     "name": "stdout",
     "output_type": "stream",
     "text": [
      "\n",
      "Longest yellow taxi trip time from January 2020 took: 5 days, 22 hours, 5 minutes\n",
      "\n",
      "\n",
      "Longest yellow taxi trip distance from January 2020 was: 210240.07 miles\n",
      "\n"
     ]
    }
   ],
   "source": [
    "conn.rollback()\n",
    "longest_trip_time = f'''\n",
    "    SELECT vendorid, month, tpep_pickup_datetime, tpep_dropoff_datetime, trip_duration_seconds, trip_duration\n",
    "    FROM yellowtaxis\n",
    "    WHERE month = 'January'\n",
    "    ORDER BY trip_duration_seconds DESC\n",
    "    LIMIT 1;\n",
    "'''\n",
    "\n",
    "lgtrip_t = execute(longest_trip_time)\n",
    "\n",
    "print()\n",
    "print(f\"Longest yellow taxi trip time from January 2020 took: {lgtrip_t[-1]}\")\n",
    "print()\n",
    "\n",
    "longest_trip_distance = f'''\n",
    "    SELECT vendorid, month, tpep_pickup_datetime, tpep_dropoff_datetime,\n",
    "    trip_duration_seconds, trip_duration, trip_distance\n",
    "    FROM yellowtaxis\n",
    "    WHERE month = 'January'\n",
    "    ORDER BY trip_distance DESC\n",
    "    LIMIT 1;\n",
    "'''\n",
    "\n",
    "lgtrip_d = execute(longest_trip_distance)\n",
    "\n",
    "print()\n",
    "print(f\"Longest yellow taxi trip distance from January 2020 was: {lgtrip_d[-1]} miles\")\n",
    "print()"
   ]
  },
  {
   "cell_type": "code",
   "execution_count": 18,
   "id": "uniform-moment",
   "metadata": {},
   "outputs": [
    {
     "name": "stdout",
     "output_type": "stream",
     "text": [
      "\n",
      "Longest yellow taxi trip time from January 2020 took: 1 seconds\n",
      "\n",
      "\n",
      "Longest yellow taxi trip distance from January 2020 was: 0.01 miles\n",
      "\n"
     ]
    }
   ],
   "source": [
    "conn.rollback()\n",
    "shortest_trip_time = f'''\n",
    "    SELECT *\n",
    "    FROM yellowtaxis\n",
    "    WHERE month = 'January' AND trip_distance > 0 AND trip_duration_seconds > 0\n",
    "    ORDER BY trip_duration_seconds ASC,\n",
    "\ttrip_distance ASC\n",
    "    LIMIT 1;\n",
    "    \n",
    "'''\n",
    "sttrip_t = execute(shortest_trip_time)\n",
    "\n",
    "print()\n",
    "print(f\"Longest yellow taxi trip time from January 2020 took: {sttrip_t[4]} seconds\")\n",
    "print()\n",
    "#print(\"Full row ->\")\n",
    "#print()\n",
    "#print(sttrip)\n",
    "\n",
    "shortest_trip_distance = f'''\n",
    "    SELECT *\n",
    "    FROM yellowtaxis\n",
    "    WHERE month = 'January' AND trip_distance > 0 AND trip_duration_seconds > 0\n",
    "    ORDER BY trip_distance ASC,\n",
    "    trip_duration_seconds ASC\n",
    "    LIMIT 1;\n",
    "    \n",
    "'''\n",
    "sttrip_d = execute(shortest_trip_distance)\n",
    "\n",
    "print()\n",
    "print(f\"Longest yellow taxi trip distance from January 2020 was: {sttrip_d[7]} miles\")\n",
    "print()"
   ]
  },
  {
   "cell_type": "code",
   "execution_count": 31,
   "id": "tutorial-error",
   "metadata": {},
   "outputs": [
    {
     "name": "stdout",
     "output_type": "stream",
     "text": [
      "\n",
      "Average yellow taxi trip time from January 2020 was: 0 days, 0 hours, 15 minutes\n",
      "\n",
      "\n",
      "Average yellow taxi trip distance from January 2020 was: 2.965610356524235 miles\n",
      "\n"
     ]
    }
   ],
   "source": [
    "avg_trip_time = f'''\n",
    "    SELECT AVG(trip_duration_seconds) AS trip_duration_avg\n",
    "    FROM yellowtaxis\n",
    "    WHERE month = 'January' AND trip_distance > 0 AND trip_duration_seconds > 0\n",
    "    \n",
    "'''\n",
    "\n",
    "avgtrip_t = execute(avg_trip_time)\n",
    "\n",
    "print()\n",
    "print(f\"Average yellow taxi trip time from January 2020 was: {time_lapse(avgtrip_t[0])}\")\n",
    "print()\n",
    "\n",
    "avg_trip_distance = f'''\n",
    "    SELECT AVG(trip_distance) AS trip_distance_avg\n",
    "    FROM yellowtaxis\n",
    "    WHERE month = 'January' AND trip_distance > 0 AND trip_duration_seconds > 0\n",
    "    \n",
    "'''\n",
    "\n",
    "avgtrip_d = execute(avg_trip_distance)\n",
    "\n",
    "print()\n",
    "print(f\"Average yellow taxi trip distance from January 2020 was: {avgtrip_d[0]} miles\")\n",
    "print()"
   ]
  },
  {
   "cell_type": "code",
   "execution_count": null,
   "id": "stupid-generic",
   "metadata": {},
   "outputs": [],
   "source": []
  },
  {
   "cell_type": "markdown",
   "id": "framed-oliver",
   "metadata": {},
   "source": [
    "4. Para cada uno de los tres meses con datos ¿podrías decirnos cuánta es la variación\n",
    "porcentual en el número de servicios registrados con respecto al mes anterior? Por\n",
    "ejemplo, en esta pregunta nos gustaría obtener un resultado así. Compártenos la\n",
    "sentencia SQL que has usado"
   ]
  },
  {
   "cell_type": "code",
   "execution_count": null,
   "id": "isolated-cruise",
   "metadata": {},
   "outputs": [],
   "source": []
  },
  {
   "cell_type": "code",
   "execution_count": null,
   "id": "frozen-favor",
   "metadata": {},
   "outputs": [],
   "source": []
  },
  {
   "cell_type": "code",
   "execution_count": null,
   "id": "guided-album",
   "metadata": {},
   "outputs": [],
   "source": []
  },
  {
   "cell_type": "code",
   "execution_count": null,
   "id": "mineral-biology",
   "metadata": {},
   "outputs": [],
   "source": []
  },
  {
   "cell_type": "code",
   "execution_count": null,
   "id": "associate-singapore",
   "metadata": {},
   "outputs": [],
   "source": []
  }
 ],
 "metadata": {
  "kernelspec": {
   "display_name": "Python [conda env:work]",
   "language": "python",
   "name": "conda-env-work-py"
  },
  "language_info": {
   "codemirror_mode": {
    "name": "ipython",
    "version": 3
   },
   "file_extension": ".py",
   "mimetype": "text/x-python",
   "name": "python",
   "nbconvert_exporter": "python",
   "pygments_lexer": "ipython3",
   "version": "3.7.9"
  }
 },
 "nbformat": 4,
 "nbformat_minor": 5
}
