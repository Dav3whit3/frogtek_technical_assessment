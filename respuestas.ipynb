{
 "cells": [
  {
   "cell_type": "code",
   "execution_count": 1,
   "id": "sorted-formation",
   "metadata": {},
   "outputs": [],
   "source": [
    "from sqlalchemy import create_engine\n",
    "import psycopg2\n",
    "import psycopg2.extras as extras"
   ]
  },
  {
   "cell_type": "code",
   "execution_count": 2,
   "id": "protective-rolling",
   "metadata": {},
   "outputs": [],
   "source": [
    "param_dic = {\n",
    "    \"host\"      : \"127.0.0.1\",\n",
    "    \"database\"  : \"taxis\",\n",
    "    \"user\"      : \"postgres\",\n",
    "    \"password\"  : \"Snowdav3\"\n",
    "}"
   ]
  },
  {
   "cell_type": "code",
   "execution_count": 3,
   "id": "resistant-track",
   "metadata": {},
   "outputs": [
    {
     "name": "stdout",
     "output_type": "stream",
     "text": [
      "Connecting to the PostgreSQL database...\n",
      "Connection succesful\n"
     ]
    }
   ],
   "source": [
    "def connect(params_dic):\n",
    "    \"\"\" Connect to the PostgreSQL database server \"\"\"\n",
    "    conn = None\n",
    "    try:\n",
    "        # connect to the PostgreSQL server\n",
    "        print('Connecting to the PostgreSQL database...')\n",
    "        conn = psycopg2.connect(**params_dic)\n",
    "    except (Exception, psycopg2.DatabaseError) as error:\n",
    "        print(error)\n",
    "        sys.exit(1) \n",
    "    print('Connection succesful')\n",
    "    \n",
    "    return conn\n",
    "\n",
    "conn = connect(param_dic)\n",
    "cursor = conn. cursor()"
   ]
  },
  {
   "cell_type": "code",
   "execution_count": 4,
   "id": "exclusive-award",
   "metadata": {},
   "outputs": [],
   "source": [
    "def time_lapse(seconds):\n",
    "    seconds_in_day = 60 * 60 * 24\n",
    "    seconds_in_hour = 60 * 60\n",
    "    seconds_in_minute = 60\n",
    "    \n",
    "    days = seconds // seconds_in_day\n",
    "    hours = (seconds - (days * seconds_in_day)) // seconds_in_hour\n",
    "    minutes = (seconds - (days * seconds_in_day) - (hours * seconds_in_hour)) // seconds_in_minute\n",
    "    \n",
    "    return f\"{days} days, {hours} hours, {minutes} minutes\""
   ]
  },
  {
   "cell_type": "markdown",
   "id": "returning-ceremony",
   "metadata": {},
   "source": [
    "# Parte 1 - SQL"
   ]
  },
  {
   "cell_type": "markdown",
   "id": "occupational-police",
   "metadata": {},
   "source": [
    "1. \n",
    "    a) ¿Puedes describirnos el procedimiento que has seguido para cargar los tres ficheros?"
   ]
  },
  {
   "cell_type": "markdown",
   "id": "known-affiliate",
   "metadata": {},
   "source": [
    "- Mediante Requests solicito el html vía http del link proporcionado.\n",
    "- Con BeautifoulSoup filtro por los div por año mediante el tag id=\"faq{year}\". \n",
    "- De estos divs seleceiono los tag 'ul' (que contienen los links csv href) para los meses indicados"
   ]
  },
  {
   "cell_type": "markdown",
   "id": "boolean-declaration",
   "metadata": {},
   "source": [
    "1.    \n",
    "    b) ¿Puedes compartirnos la definición de la tabla que estás usando para contestar las\n",
    "preguntas planteadas?"
   ]
  },
  {
   "cell_type": "markdown",
   "id": "patent-cache",
   "metadata": {},
   "source": []
  },
  {
   "cell_type": "markdown",
   "id": "postal-pickup",
   "metadata": {},
   "source": [
    "2. Una vez cargados los tres ficheros en tu base de datos, ¿cuántos registros tiene la\n",
    "tabla? Compártenos la SQL que has usado."
   ]
  },
  {
   "cell_type": "code",
   "execution_count": 17,
   "id": "productive-cutting",
   "metadata": {},
   "outputs": [
    {
     "name": "stdout",
     "output_type": "stream",
     "text": [
      "(15711654,)\n"
     ]
    }
   ],
   "source": [
    "registros = '''SELECT COUNT(vendorid) AS registros_totales\n",
    "FROM yellowtaxis;\n",
    "'''\n",
    "\n",
    "cursor.execute(registros)\n",
    "result = cursor.fetchall()[0]\n",
    "print(result)"
   ]
  },
  {
   "cell_type": "markdown",
   "id": "statutory-holocaust",
   "metadata": {},
   "source": [
    "3. Para cada uno de los tres meses con datos ¿podrías decirnos cuál es el trayecto más\n",
    "corto, más largo y el trayecto medio?, en distancia y en tiempo. Compártenos la\n",
    "sentencia SQL que has usado.\n"
   ]
  },
  {
   "cell_type": "code",
   "execution_count": 5,
   "id": "alpine-power",
   "metadata": {},
   "outputs": [],
   "source": [
    "def execute(month: str, trip_metric, trip_measure):\n",
    "    \n",
    "    query = None\n",
    "    if trip_metric == 'longest':\n",
    "        if trip_measure == 'time':\n",
    "            longest_trip_time = f'''\n",
    "                SELECT vendorid, month, tpep_pickup_datetime, tpep_dropoff_datetime, trip_duration_seconds, trip_duration\n",
    "                FROM yellowtaxis\n",
    "                WHERE month = '{month}'\n",
    "                ORDER BY trip_duration_seconds DESC\n",
    "                LIMIT 1;\n",
    "            '''\n",
    "            query = longest_trip_time\n",
    "        elif trip_measure == 'distance':\n",
    "            longest_trip_distance = f'''\n",
    "                SELECT vendorid, month, tpep_pickup_datetime, tpep_dropoff_datetime,\n",
    "                trip_duration_seconds, trip_duration, trip_distance\n",
    "                FROM yellowtaxis\n",
    "                WHERE month = '{month}'\n",
    "                ORDER BY trip_distance DESC\n",
    "                LIMIT 1;\n",
    "            '''\n",
    "            query = longest_trip_distance\n",
    "            \n",
    "    elif trip_metric == 'shortest':\n",
    "        if trip_measure == 'time':\n",
    "            shortest_trip_time = f'''\n",
    "                SELECT *\n",
    "                FROM yellowtaxis\n",
    "                WHERE month = '{month}' AND trip_distance > 0 AND trip_duration_seconds > 0\n",
    "                ORDER BY trip_duration_seconds ASC,\n",
    "                trip_distance ASC\n",
    "                LIMIT 1;\n",
    "\n",
    "            '''\n",
    "            query = shortest_trip_time\n",
    "            \n",
    "        elif trip_measure == 'distance':\n",
    "            shortest_trip_distance = f'''\n",
    "                SELECT *\n",
    "                FROM yellowtaxis\n",
    "                WHERE month = '{month}' AND trip_distance > 0 AND trip_duration_seconds > 0\n",
    "                ORDER BY trip_distance ASC,\n",
    "                trip_duration_seconds ASC\n",
    "                LIMIT 1;\n",
    "\n",
    "            '''\n",
    "            query = shortest_trip_distance\n",
    "    \n",
    "    elif trip_metric == 'average':\n",
    "        if trip_measure == 'time':\n",
    "            avg_trip_time = f'''\n",
    "                SELECT AVG(trip_duration_seconds) AS trip_duration_avg\n",
    "                FROM yellowtaxis\n",
    "                WHERE month = 'January' AND trip_distance > 0 AND trip_duration_seconds > 0\n",
    "\n",
    "            '''\n",
    "            query = avg_trip_time\n",
    "            \n",
    "        elif trip_measure == 'distance':\n",
    "            avg_trip_distance = f'''\n",
    "                SELECT AVG(trip_distance) AS trip_distance_avg\n",
    "                FROM yellowtaxis\n",
    "                WHERE month = 'January' AND trip_distance > 0 AND trip_duration_seconds > 0\n",
    "\n",
    "            '''\n",
    "            query =  avg_trip_distance\n",
    "    \n",
    "    cursor.execute(query)\n",
    "    result = cursor.fetchall()[0]\n",
    "    \n",
    "    return result"
   ]
  },
  {
   "cell_type": "markdown",
   "id": "surface-medicare",
   "metadata": {},
   "source": [
    "# January"
   ]
  },
  {
   "cell_type": "code",
   "execution_count": 6,
   "id": "swedish-allocation",
   "metadata": {},
   "outputs": [
    {
     "name": "stdout",
     "output_type": "stream",
     "text": [
      "\n",
      "Longest yellow taxi trip time from January 2020 took: 5 days, 22 hours, 5 minutes\n",
      "\n",
      "\n",
      "Longest yellow taxi trip distance from January 2020 was: 210240.07 miles\n",
      "\n"
     ]
    }
   ],
   "source": [
    "# Longest time\n",
    "jan_lg_t = execute('January', 'longest', 'time')\n",
    "print()\n",
    "print(f\"Longest yellow taxi trip time from January 2020 took: {jan_lg_t[-1]}\")\n",
    "print()\n",
    "\n",
    "# Longest distance\n",
    "\n",
    "jan_lg_d = execute('January', 'longest', 'distance')\n",
    "print()\n",
    "print(f\"Longest yellow taxi trip distance from January 2020 was: {jan_lg_d[-1]} miles\")\n",
    "print()"
   ]
  },
  {
   "cell_type": "code",
   "execution_count": 7,
   "id": "armed-toddler",
   "metadata": {},
   "outputs": [
    {
     "name": "stdout",
     "output_type": "stream",
     "text": [
      "\n",
      "Shortest yellow taxi trip time from January 2020 took: 1 seconds\n",
      "\n",
      "\n",
      "Shortest yellow taxi trip distance from January 2020 was: 0.01 miles\n",
      "\n"
     ]
    }
   ],
   "source": [
    "# Shortest time\n",
    "jan_st_t = execute('January', 'shortest', 'time')\n",
    "print()\n",
    "print(f\"Shortest yellow taxi trip time from January 2020 took: {jan_st_t[4]} seconds\")\n",
    "print()\n",
    "\n",
    "# Shortest distance\n",
    "jan_st_d = execute('January', 'shortest', 'distance')\n",
    "print()\n",
    "print(f\"Shortest yellow taxi trip distance from January 2020 was: {jan_st_d[7]} miles\")\n",
    "print()"
   ]
  },
  {
   "cell_type": "code",
   "execution_count": 8,
   "id": "extraordinary-mozambique",
   "metadata": {},
   "outputs": [
    {
     "name": "stdout",
     "output_type": "stream",
     "text": [
      "\n",
      "Average yellow taxi trip time from January 2020 was: 0 days, 0 hours, 15 minutes\n",
      "\n",
      "\n",
      "Average yellow taxi trip distance from January 2020 was: 2.96561035652413 miles\n",
      "\n"
     ]
    }
   ],
   "source": [
    "# Average\n",
    "jan_avg_t =  execute('January', 'average', 'time')\n",
    "print()\n",
    "print(f\"Average yellow taxi trip time from January 2020 was: {time_lapse(jan_avg_t[0])}\")\n",
    "print()\n",
    "\n",
    "# Average distance\n",
    "jan_avg_d = execute('January', 'average', 'distance')\n",
    "print()\n",
    "print(f\"Average yellow taxi trip distance from January 2020 was: {jan_avg_d[0]} miles\")\n",
    "print()"
   ]
  },
  {
   "cell_type": "markdown",
   "id": "gentle-brain",
   "metadata": {},
   "source": [
    "# February "
   ]
  },
  {
   "cell_type": "code",
   "execution_count": 9,
   "id": "sudden-investment",
   "metadata": {},
   "outputs": [
    {
     "name": "stdout",
     "output_type": "stream",
     "text": [
      "\n",
      "Longest yellow taxi trip time from February 2020 took: 2 days, 4 hours, 27 minutes\n",
      "\n",
      "\n",
      "Longest yellow taxi trip distance from February 2020 was: 57051.09 miles\n",
      "\n"
     ]
    }
   ],
   "source": [
    "feb_lg_t = execute('February', 'longest', 'time')\n",
    "print()\n",
    "print(f\"Longest yellow taxi trip time from February 2020 took: {feb_lg_t[-1]}\")\n",
    "print()\n",
    "\n",
    "# Longest distance\n",
    "\n",
    "feb_lg_d = execute('February', 'longest', 'distance')\n",
    "print()\n",
    "print(f\"Longest yellow taxi trip distance from February 2020 was: {feb_lg_d[-1]} miles\")\n",
    "print()"
   ]
  },
  {
   "cell_type": "code",
   "execution_count": 10,
   "id": "bacterial-table",
   "metadata": {},
   "outputs": [
    {
     "name": "stdout",
     "output_type": "stream",
     "text": [
      "\n",
      "Shortest yellow taxi trip time from February 2020 took: 1 seconds\n",
      "\n",
      "\n",
      "Shortest yellow taxi trip distance from February 2020 was: 0.01 miles\n",
      "\n"
     ]
    }
   ],
   "source": [
    "# Shortest time\n",
    "feb_st_t = execute('February', 'shortest', 'time')\n",
    "print()\n",
    "print(f\"Shortest yellow taxi trip time from February 2020 took: {feb_st_t[4]} seconds\")\n",
    "print()\n",
    "\n",
    "# Shortest distance\n",
    "feb_st_d = execute('February', 'shortest', 'distance')\n",
    "print()\n",
    "print(f\"Shortest yellow taxi trip distance from February 2020 was: {feb_st_d[7]} miles\")\n",
    "print()"
   ]
  },
  {
   "cell_type": "code",
   "execution_count": 11,
   "id": "innovative-match",
   "metadata": {},
   "outputs": [
    {
     "name": "stdout",
     "output_type": "stream",
     "text": [
      "\n",
      "Average yellow taxi trip time from February 2020 was: 0 days, 0 hours, 15 minutes\n",
      "\n",
      "\n",
      "Average yellow taxi trip distance from February 2020 was: 2.965610356524205 miles\n",
      "\n"
     ]
    }
   ],
   "source": [
    "# Average\n",
    "feb_avg_t =  execute('February', 'average', 'time')\n",
    "print()\n",
    "print(f\"Average yellow taxi trip time from February 2020 was: {time_lapse(feb_avg_t[0])}\")\n",
    "print()\n",
    "\n",
    "# Average distance\n",
    "feb_avg_d = execute('February', 'average', 'distance')\n",
    "print()\n",
    "print(f\"Average yellow taxi trip distance from February 2020 was: {feb_avg_d[0]} miles\")\n",
    "print()"
   ]
  },
  {
   "cell_type": "markdown",
   "id": "tested-producer",
   "metadata": {},
   "source": [
    "# March"
   ]
  },
  {
   "cell_type": "code",
   "execution_count": 12,
   "id": "center-setup",
   "metadata": {},
   "outputs": [
    {
     "name": "stdout",
     "output_type": "stream",
     "text": [
      "\n",
      "Longest yellow taxi trip time from March 2020 took: 1 days, 6 hours, 14 minutes\n",
      "\n",
      "\n",
      "Longest yellow taxi trip distance from March 2020 was: 269803.73 miles\n",
      "\n"
     ]
    }
   ],
   "source": [
    "mar_lg_t = execute('March', 'longest', 'time')\n",
    "print()\n",
    "print(f\"Longest yellow taxi trip time from March 2020 took: {mar_lg_t[-1]}\")\n",
    "print()\n",
    "\n",
    "# Longest distance\n",
    "mar_lg_d = execute('March', 'longest', 'distance')\n",
    "print()\n",
    "print(f\"Longest yellow taxi trip distance from March 2020 was: {mar_lg_d[-1]} miles\")\n",
    "print()"
   ]
  },
  {
   "cell_type": "code",
   "execution_count": 13,
   "id": "behavioral-regulation",
   "metadata": {},
   "outputs": [
    {
     "name": "stdout",
     "output_type": "stream",
     "text": [
      "\n",
      "Shortest yellow taxi trip time from February 2020 took: 1 seconds\n",
      "\n",
      "\n",
      "Shortest yellow taxi trip distance from March 2020 was: 0.01 miles\n",
      "\n"
     ]
    }
   ],
   "source": [
    "# Shortest time\n",
    "mar_st_t = execute('March', 'shortest', 'time')\n",
    "print()\n",
    "print(f\"Shortest yellow taxi trip time from February 2020 took: {jan_st_t[4]} seconds\")\n",
    "print()\n",
    "\n",
    "# Shortest distance\n",
    "mar_st_d = execute('March', 'shortest', 'distance')\n",
    "print()\n",
    "print(f\"Shortest yellow taxi trip distance from March 2020 was: {mar_st_d[7]} miles\")\n",
    "print()"
   ]
  },
  {
   "cell_type": "code",
   "execution_count": 14,
   "id": "billion-chinese",
   "metadata": {},
   "outputs": [
    {
     "name": "stdout",
     "output_type": "stream",
     "text": [
      "\n",
      "Average yellow taxi trip time from March 2020 was: 0 days, 0 hours, 15 minutes\n",
      "\n",
      "\n",
      "Average yellow taxi trip distance from March 2020 was: 2.9656103565242202 miles\n",
      "\n"
     ]
    }
   ],
   "source": [
    "# Average\n",
    "mar_avg_t =  execute('March', 'average', 'time')\n",
    "print()\n",
    "print(f\"Average yellow taxi trip time from March 2020 was: {time_lapse(mar_avg_t[0])}\")\n",
    "print()\n",
    "\n",
    "# Average distance\n",
    "mar_avg_d = execute('March', 'average', 'distance')\n",
    "print()\n",
    "print(f\"Average yellow taxi trip distance from March 2020 was: {mar_avg_d[0]} miles\")\n",
    "print()"
   ]
  },
  {
   "cell_type": "markdown",
   "id": "orange-slide",
   "metadata": {},
   "source": [
    "4. Para cada uno de los tres meses con datos ¿podrías decirnos cuánta es la variación\n",
    "porcentual en el número de servicios registrados con respecto al mes anterior? Por\n",
    "ejemplo, en esta pregunta nos gustaría obtener un resultado así. Compártenos la\n",
    "sentencia SQL que has usado"
   ]
  },
  {
   "cell_type": "code",
   "execution_count": null,
   "id": "joint-branch",
   "metadata": {},
   "outputs": [],
   "source": []
  },
  {
   "cell_type": "code",
   "execution_count": null,
   "id": "acquired-dover",
   "metadata": {},
   "outputs": [],
   "source": []
  },
  {
   "cell_type": "code",
   "execution_count": null,
   "id": "molecular-inquiry",
   "metadata": {},
   "outputs": [],
   "source": []
  },
  {
   "cell_type": "code",
   "execution_count": null,
   "id": "copyrighted-suspect",
   "metadata": {},
   "outputs": [],
   "source": []
  },
  {
   "cell_type": "code",
   "execution_count": null,
   "id": "secondary-completion",
   "metadata": {},
   "outputs": [],
   "source": [
    "import pandas as pd\n",
    "\n",
    "df = pd.DataFrame({'month': ['january', 'february']})\n",
    "\n",
    "df"
   ]
  },
  {
   "cell_type": "code",
   "execution_count": null,
   "id": "macro-state",
   "metadata": {},
   "outputs": [],
   "source": [
    "\n",
    "df['month'] = pd.to_datetime(df['month'], format=\"%B\").dt.month\n",
    "df"
   ]
  },
  {
   "cell_type": "code",
   "execution_count": 47,
   "id": "lucky-tourism",
   "metadata": {},
   "outputs": [
    {
     "ename": "AttributeError",
     "evalue": "'Series' object has no attribute 'strptime'",
     "output_type": "error",
     "traceback": [
      "\u001b[0;31m---------------------------------------------------------------------------\u001b[0m",
      "\u001b[0;31mAttributeError\u001b[0m                            Traceback (most recent call last)",
      "\u001b[0;32m<ipython-input-47-e639a1237e4e>\u001b[0m in \u001b[0;36m<module>\u001b[0;34m\u001b[0m\n\u001b[0;32m----> 1\u001b[0;31m \u001b[0mdf\u001b[0m\u001b[0;34m[\u001b[0m\u001b[0;34m'month'\u001b[0m\u001b[0;34m]\u001b[0m \u001b[0;34m=\u001b[0m \u001b[0mpd\u001b[0m\u001b[0;34m.\u001b[0m\u001b[0mto_datetime\u001b[0m\u001b[0;34m(\u001b[0m\u001b[0mdf\u001b[0m\u001b[0;34m[\u001b[0m\u001b[0;34m'month'\u001b[0m\u001b[0;34m]\u001b[0m\u001b[0;34m,\u001b[0m \u001b[0mformat\u001b[0m\u001b[0;34m=\u001b[0m\u001b[0;34m\"%B\"\u001b[0m\u001b[0;34m)\u001b[0m\u001b[0;34m.\u001b[0m\u001b[0mstrptime\u001b[0m\u001b[0;34m(\u001b[0m\u001b[0;34m'%B'\u001b[0m\u001b[0;34m)\u001b[0m\u001b[0;34m\u001b[0m\u001b[0;34m\u001b[0m\u001b[0m\n\u001b[0m",
      "\u001b[0;32m~/miniconda3/envs/work/lib/python3.7/site-packages/pandas/core/generic.py\u001b[0m in \u001b[0;36m__getattr__\u001b[0;34m(self, name)\u001b[0m\n\u001b[1;32m   5460\u001b[0m             \u001b[0;32mif\u001b[0m \u001b[0mself\u001b[0m\u001b[0;34m.\u001b[0m\u001b[0m_info_axis\u001b[0m\u001b[0;34m.\u001b[0m\u001b[0m_can_hold_identifiers_and_holds_name\u001b[0m\u001b[0;34m(\u001b[0m\u001b[0mname\u001b[0m\u001b[0;34m)\u001b[0m\u001b[0;34m:\u001b[0m\u001b[0;34m\u001b[0m\u001b[0;34m\u001b[0m\u001b[0m\n\u001b[1;32m   5461\u001b[0m                 \u001b[0;32mreturn\u001b[0m \u001b[0mself\u001b[0m\u001b[0;34m[\u001b[0m\u001b[0mname\u001b[0m\u001b[0;34m]\u001b[0m\u001b[0;34m\u001b[0m\u001b[0;34m\u001b[0m\u001b[0m\n\u001b[0;32m-> 5462\u001b[0;31m             \u001b[0;32mreturn\u001b[0m \u001b[0mobject\u001b[0m\u001b[0;34m.\u001b[0m\u001b[0m__getattribute__\u001b[0m\u001b[0;34m(\u001b[0m\u001b[0mself\u001b[0m\u001b[0;34m,\u001b[0m \u001b[0mname\u001b[0m\u001b[0;34m)\u001b[0m\u001b[0;34m\u001b[0m\u001b[0;34m\u001b[0m\u001b[0m\n\u001b[0m\u001b[1;32m   5463\u001b[0m \u001b[0;34m\u001b[0m\u001b[0m\n\u001b[1;32m   5464\u001b[0m     \u001b[0;32mdef\u001b[0m \u001b[0m__setattr__\u001b[0m\u001b[0;34m(\u001b[0m\u001b[0mself\u001b[0m\u001b[0;34m,\u001b[0m \u001b[0mname\u001b[0m\u001b[0;34m:\u001b[0m \u001b[0mstr\u001b[0m\u001b[0;34m,\u001b[0m \u001b[0mvalue\u001b[0m\u001b[0;34m)\u001b[0m \u001b[0;34m->\u001b[0m \u001b[0;32mNone\u001b[0m\u001b[0;34m:\u001b[0m\u001b[0;34m\u001b[0m\u001b[0;34m\u001b[0m\u001b[0m\n",
      "\u001b[0;31mAttributeError\u001b[0m: 'Series' object has no attribute 'strptime'"
     ]
    }
   ],
   "source": [
    "final_df['month'] = pd.to_datetime(final_df['month'], format=\"%B\").strptime('%B')"
   ]
  },
  {
   "cell_type": "code",
   "execution_count": 44,
   "id": "loved-cooling",
   "metadata": {},
   "outputs": [
    {
     "data": {
      "text/html": [
       "<div>\n",
       "<style scoped>\n",
       "    .dataframe tbody tr th:only-of-type {\n",
       "        vertical-align: middle;\n",
       "    }\n",
       "\n",
       "    .dataframe tbody tr th {\n",
       "        vertical-align: top;\n",
       "    }\n",
       "\n",
       "    .dataframe thead th {\n",
       "        text-align: right;\n",
       "    }\n",
       "</style>\n",
       "<table border=\"1\" class=\"dataframe\">\n",
       "  <thead>\n",
       "    <tr style=\"text-align: right;\">\n",
       "      <th></th>\n",
       "      <th>month</th>\n",
       "    </tr>\n",
       "  </thead>\n",
       "  <tbody>\n",
       "    <tr>\n",
       "      <th>0</th>\n",
       "      <td>1900-01-01</td>\n",
       "    </tr>\n",
       "    <tr>\n",
       "      <th>1</th>\n",
       "      <td>1900-02-01</td>\n",
       "    </tr>\n",
       "  </tbody>\n",
       "</table>\n",
       "</div>"
      ],
      "text/plain": [
       "       month\n",
       "0 1900-01-01\n",
       "1 1900-02-01"
      ]
     },
     "execution_count": 44,
     "metadata": {},
     "output_type": "execute_result"
    }
   ],
   "source": [
    "df.dtypes\n",
    "df"
   ]
  },
  {
   "cell_type": "code",
   "execution_count": 46,
   "id": "ahead-gilbert",
   "metadata": {},
   "outputs": [
    {
     "ename": "TypeError",
     "evalue": "strptime() argument 1 must be str, not Series",
     "output_type": "error",
     "traceback": [
      "\u001b[0;31m---------------------------------------------------------------------------\u001b[0m",
      "\u001b[0;31mTypeError\u001b[0m                                 Traceback (most recent call last)",
      "\u001b[0;32m<ipython-input-46-51f0c982ac54>\u001b[0m in \u001b[0;36m<module>\u001b[0;34m\u001b[0m\n\u001b[0;32m----> 1\u001b[0;31m \u001b[0mdf\u001b[0m\u001b[0;34m[\u001b[0m\u001b[0;34m'month'\u001b[0m\u001b[0;34m]\u001b[0m \u001b[0;34m=\u001b[0m \u001b[0mdatetime\u001b[0m\u001b[0;34m.\u001b[0m\u001b[0mdatetime\u001b[0m\u001b[0;34m.\u001b[0m\u001b[0mstrptime\u001b[0m\u001b[0;34m(\u001b[0m\u001b[0mdf\u001b[0m\u001b[0;34m[\u001b[0m\u001b[0;34m'month'\u001b[0m\u001b[0;34m]\u001b[0m\u001b[0;34m,\u001b[0m \u001b[0;34m\"%B\"\u001b[0m\u001b[0;34m)\u001b[0m\u001b[0;34m.\u001b[0m\u001b[0mstrftime\u001b[0m\u001b[0;34m(\u001b[0m\u001b[0;34m'%B'\u001b[0m\u001b[0;34m)\u001b[0m\u001b[0;34m.\u001b[0m\u001b[0mstrptime\u001b[0m\u001b[0;34m(\u001b[0m\u001b[0;34m'%B'\u001b[0m\u001b[0;34m)\u001b[0m\u001b[0;34m\u001b[0m\u001b[0;34m\u001b[0m\u001b[0m\n\u001b[0m",
      "\u001b[0;31mTypeError\u001b[0m: strptime() argument 1 must be str, not Series"
     ]
    }
   ],
   "source": [
    "df['month'] = datetime.datetime.strptime(df['month'], \"%B\").strftime('%B').strptime('%B')"
   ]
  },
  {
   "cell_type": "code",
   "execution_count": 45,
   "id": "planned-sequence",
   "metadata": {},
   "outputs": [
    {
     "ename": "AttributeError",
     "evalue": "'str' object has no attribute 'strptime'",
     "output_type": "error",
     "traceback": [
      "\u001b[0;31m---------------------------------------------------------------------------\u001b[0m",
      "\u001b[0;31mAttributeError\u001b[0m                            Traceback (most recent call last)",
      "\u001b[0;32m<ipython-input-45-0bacf95ed128>\u001b[0m in \u001b[0;36m<module>\u001b[0;34m\u001b[0m\n\u001b[1;32m      2\u001b[0m \u001b[0;34m\u001b[0m\u001b[0m\n\u001b[1;32m      3\u001b[0m \u001b[0mmonth\u001b[0m \u001b[0;34m=\u001b[0m \u001b[0;34m'January'\u001b[0m\u001b[0;34m\u001b[0m\u001b[0;34m\u001b[0m\u001b[0m\n\u001b[0;32m----> 4\u001b[0;31m \u001b[0mdatetime\u001b[0m\u001b[0;34m.\u001b[0m\u001b[0mdatetime\u001b[0m\u001b[0;34m.\u001b[0m\u001b[0mstrptime\u001b[0m\u001b[0;34m(\u001b[0m\u001b[0mmonth\u001b[0m\u001b[0;34m,\u001b[0m \u001b[0;34m\"%B\"\u001b[0m\u001b[0;34m)\u001b[0m\u001b[0;34m.\u001b[0m\u001b[0mstrftime\u001b[0m\u001b[0;34m(\u001b[0m\u001b[0;34m'%B'\u001b[0m\u001b[0;34m)\u001b[0m\u001b[0;34m.\u001b[0m\u001b[0mstrptime\u001b[0m\u001b[0;34m(\u001b[0m\u001b[0;34m'%B'\u001b[0m\u001b[0;34m)\u001b[0m\u001b[0;34m\u001b[0m\u001b[0;34m\u001b[0m\u001b[0m\n\u001b[0m",
      "\u001b[0;31mAttributeError\u001b[0m: 'str' object has no attribute 'strptime'"
     ]
    }
   ],
   "source": [
    "import datetime\n",
    "\n",
    "month = 'January' \n",
    "datetime.datetime.strptime(month, \"%B\").strftime('%B').strptime('%B')"
   ]
  },
  {
   "cell_type": "code",
   "execution_count": null,
   "id": "perceived-conjunction",
   "metadata": {},
   "outputs": [],
   "source": [
    ".strftime('%md')"
   ]
  }
 ],
 "metadata": {
  "kernelspec": {
   "display_name": "Python [conda env:work]",
   "language": "python",
   "name": "conda-env-work-py"
  },
  "language_info": {
   "codemirror_mode": {
    "name": "ipython",
    "version": 3
   },
   "file_extension": ".py",
   "mimetype": "text/x-python",
   "name": "python",
   "nbconvert_exporter": "python",
   "pygments_lexer": "ipython3",
   "version": "3.7.9"
  }
 },
 "nbformat": 4,
 "nbformat_minor": 5
}
