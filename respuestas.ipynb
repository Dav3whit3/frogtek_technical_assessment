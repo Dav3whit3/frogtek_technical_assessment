{
 "cells": [
  {
   "cell_type": "code",
   "execution_count": 1,
   "id": "complimentary-indiana",
   "metadata": {},
   "outputs": [],
   "source": [
    "from sqlalchemy import create_engine\n",
    "import psycopg2\n",
    "import psycopg2.extras as extras"
   ]
  },
  {
   "cell_type": "code",
   "execution_count": 2,
   "id": "successful-porter",
   "metadata": {},
   "outputs": [],
   "source": [
    "param_dic = {\n",
    "    \"host\"      : \"127.0.0.1\",\n",
    "    \"database\"  : \"taxis\",\n",
    "    \"user\"      : \"postgres\",\n",
    "    \"password\"  : \"Snowdav3\"\n",
    "}"
   ]
  },
  {
   "cell_type": "code",
   "execution_count": 3,
   "id": "adjacent-raleigh",
   "metadata": {},
   "outputs": [
    {
     "name": "stdout",
     "output_type": "stream",
     "text": [
      "Connecting to the PostgreSQL database...\n",
      "Connection succesful\n"
     ]
    }
   ],
   "source": [
    "def connect(params_dic):\n",
    "    \"\"\" Connect to the PostgreSQL database server \"\"\"\n",
    "    conn = None\n",
    "    try:\n",
    "        # connect to the PostgreSQL server\n",
    "        print('Connecting to the PostgreSQL database...')\n",
    "        conn = psycopg2.connect(**params_dic)\n",
    "    except (Exception, psycopg2.DatabaseError) as error:\n",
    "        print(error)\n",
    "        sys.exit(1) \n",
    "    print('Connection succesful')\n",
    "    \n",
    "    return conn\n",
    "\n",
    "conn = connect(param_dic)\n",
    "cursor = conn. cursor()"
   ]
  },
  {
   "cell_type": "markdown",
   "id": "intermediate-antique",
   "metadata": {},
   "source": [
    "Parte 1 - SQL"
   ]
  },
  {
   "cell_type": "markdown",
   "id": "intensive-champagne",
   "metadata": {},
   "source": [
    "1. \n",
    "    a) ¿Puedes describirnos el procedimiento que has seguido para cargar los tres ficheros?"
   ]
  },
  {
   "cell_type": "markdown",
   "id": "rotary-dylan",
   "metadata": {},
   "source": [
    "1.    \n",
    "    b) ¿Puedes compartirnos la definición de la tabla que estás usando para contestar las\n",
    "preguntas planteadas?"
   ]
  },
  {
   "cell_type": "code",
   "execution_count": null,
   "id": "attractive-psychiatry",
   "metadata": {},
   "outputs": [],
   "source": []
  },
  {
   "cell_type": "markdown",
   "id": "terminal-laptop",
   "metadata": {},
   "source": [
    "2. Una vez cargados los tres ficheros en tu base de datos, ¿cuántos registros tiene la\n",
    "tabla? Compártenos la SQL que has usado."
   ]
  },
  {
   "cell_type": "code",
   "execution_count": 4,
   "id": "active-nevada",
   "metadata": {},
   "outputs": [
    {
     "name": "stdout",
     "output_type": "stream",
     "text": [
      "\n",
      "La tabla tiene 15711654 registros\n",
      "\n"
     ]
    }
   ],
   "source": [
    "table = 'yellowtaxis'\n",
    "\n",
    "row_count = f'''\n",
    "    SELECT COUNT(vendorid)\n",
    "    FROM {table};\n",
    "'''\n",
    "\n",
    "cursor.execute(row_count)\n",
    "result = cursor.fetchone();\n",
    "\n",
    "print()\n",
    "print(f\"La tabla tiene {result[0]} registros\")\n",
    "print()"
   ]
  },
  {
   "cell_type": "markdown",
   "id": "automatic-summer",
   "metadata": {},
   "source": [
    "3. Para cada uno de los tres meses con datos ¿podrías decirnos cuál es el trayecto más\n",
    "corto, más largo y el trayecto medio?, en distancia y en tiempo. Compártenos la\n",
    "sentencia SQL que has usado.\n"
   ]
  },
  {
   "cell_type": "code",
   "execution_count": 5,
   "id": "divided-supervision",
   "metadata": {},
   "outputs": [
    {
     "ename": "SyntaxError",
     "evalue": "invalid syntax (<ipython-input-5-8ed169f00bf5>, line 5)",
     "output_type": "error",
     "traceback": [
      "\u001b[0;36m  File \u001b[0;32m\"<ipython-input-5-8ed169f00bf5>\"\u001b[0;36m, line \u001b[0;32m5\u001b[0m\n\u001b[0;31m    assert meassure  in ms, raise ValueError(f\"Specify measure from: {ms}\")\u001b[0m\n\u001b[0m                                ^\u001b[0m\n\u001b[0;31mSyntaxError\u001b[0m\u001b[0;31m:\u001b[0m invalid syntax\n"
     ]
    }
   ],
   "source": [
    "def trip(month, meassure, tipo):\n",
    "    ms = ['distancia', 'tiempo']\n",
    "    t = ['corto', 'largo', 'medio']\n",
    "    \n",
    "    assert meassure  in ms, raise ValueError(f\"Specify measure from: {ms}\")\n",
    "    assert tipo in t, raise ValueError(f\"Specify type from: {t}\")\n",
    "    \n",
    "    time = 'tpep_pickup_datetime - tpep_dropoff_datetime'\n",
    "    distance = \n",
    "    \n",
    "    query = f'''\n",
    "        SELECT ({}) AS trip_{}\n",
    "        FROM yellowtaxis\n",
    "        WHERE \n",
    "        ORDER BY trip_time {}\n",
    "        LIMIT 1\n",
    "    ;\n",
    "        '''\n",
    "    if meassure == 'tiempo':\n",
    "        if tipo == 'largo':\n",
    "            query.format(time, 'time', 'DESC')\n",
    "        elif tipo == 'corto':\n",
    "            query.format(time, 'time', 'ASC')\n",
    "        else:\n",
    "            query = f'''\n",
    "                    SELECT AVG({time}) AS trip_time_avg\n",
    "                    FROM yellowtaxis\n",
    "                ;\n",
    "                    '''\n",
    "    else:\n",
    "        if tipo == 'largo':\n",
    "            query.format('trip_distance', 'distance', 'DESC')\n",
    "        elif tipo == 'corto':\n",
    "            query.format('trip_distance', 'distance', 'ASC')\n",
    "        else:\n",
    "            query = f'''\n",
    "                    SELECT AVG(trip_distance) AS trip_distance_avg\n",
    "                    FROM yellowtaxis\n",
    "                ;\n",
    "                    '''            \n",
    "    cursor.execute(query)\n",
    "    result = cursor.fetchone()\n",
    "    \n",
    "    return result"
   ]
  },
  {
   "cell_type": "code",
   "execution_count": null,
   "id": "auburn-regression",
   "metadata": {},
   "outputs": [],
   "source": [
    "#trip()"
   ]
  },
  {
   "cell_type": "code",
   "execution_count": null,
   "id": "suburban-investigation",
   "metadata": {},
   "outputs": [],
   "source": [
    "def longest_commute(month, tipo):\n",
    "    query = f'''\n",
    "    SELECT (tpep_pickup_datetime - tpep_dropoff_datetime) AS trip_time\n",
    "    FROM yellowtaxis\n",
    "    ORDER BY trip_time DESC\n",
    "    LIMIT 1\n",
    ";\n",
    "    '''\n",
    "    pass"
   ]
  },
  {
   "cell_type": "code",
   "execution_count": null,
   "id": "downtown-associate",
   "metadata": {},
   "outputs": [],
   "source": [
    "def average_commute(month, tipo):\n",
    "    query = f'''\n",
    "    \n",
    "    '''\n",
    "    pass"
   ]
  },
  {
   "cell_type": "code",
   "execution_count": null,
   "id": "bacterial-eligibility",
   "metadata": {},
   "outputs": [],
   "source": []
  },
  {
   "cell_type": "markdown",
   "id": "included-reply",
   "metadata": {},
   "source": [
    "4. Para cada uno de los tres meses con datos ¿podrías decirnos cuánta es la variación\n",
    "porcentual en el número de servicios registrados con respecto al mes anterior? Por\n",
    "ejemplo, en esta pregunta nos gustaría obtener un resultado así. Compártenos la\n",
    "sentencia SQL que has usado"
   ]
  },
  {
   "cell_type": "code",
   "execution_count": 10,
   "id": "prostate-elevation",
   "metadata": {},
   "outputs": [
    {
     "data": {
      "text/html": [
       "<div>\n",
       "<style scoped>\n",
       "    .dataframe tbody tr th:only-of-type {\n",
       "        vertical-align: middle;\n",
       "    }\n",
       "\n",
       "    .dataframe tbody tr th {\n",
       "        vertical-align: top;\n",
       "    }\n",
       "\n",
       "    .dataframe thead th {\n",
       "        text-align: right;\n",
       "    }\n",
       "</style>\n",
       "<table border=\"1\" class=\"dataframe\">\n",
       "  <thead>\n",
       "    <tr style=\"text-align: right;\">\n",
       "      <th></th>\n",
       "      <th>col1</th>\n",
       "      <th>col2</th>\n",
       "    </tr>\n",
       "  </thead>\n",
       "  <tbody>\n",
       "    <tr>\n",
       "      <th>0</th>\n",
       "      <td>1</td>\n",
       "      <td>11</td>\n",
       "    </tr>\n",
       "    <tr>\n",
       "      <th>1</th>\n",
       "      <td>2</td>\n",
       "      <td>12</td>\n",
       "    </tr>\n",
       "    <tr>\n",
       "      <th>2</th>\n",
       "      <td>3</td>\n",
       "      <td>13</td>\n",
       "    </tr>\n",
       "    <tr>\n",
       "      <th>3</th>\n",
       "      <td>4</td>\n",
       "      <td>14</td>\n",
       "    </tr>\n",
       "    <tr>\n",
       "      <th>4</th>\n",
       "      <td>5</td>\n",
       "      <td>15</td>\n",
       "    </tr>\n",
       "    <tr>\n",
       "      <th>5</th>\n",
       "      <td>6</td>\n",
       "      <td>16</td>\n",
       "    </tr>\n",
       "    <tr>\n",
       "      <th>6</th>\n",
       "      <td>7</td>\n",
       "      <td>17</td>\n",
       "    </tr>\n",
       "    <tr>\n",
       "      <th>7</th>\n",
       "      <td>8</td>\n",
       "      <td>18</td>\n",
       "    </tr>\n",
       "    <tr>\n",
       "      <th>8</th>\n",
       "      <td>9</td>\n",
       "      <td>19</td>\n",
       "    </tr>\n",
       "    <tr>\n",
       "      <th>9</th>\n",
       "      <td>10</td>\n",
       "      <td>20</td>\n",
       "    </tr>\n",
       "  </tbody>\n",
       "</table>\n",
       "</div>"
      ],
      "text/plain": [
       "   col1  col2\n",
       "0     1    11\n",
       "1     2    12\n",
       "2     3    13\n",
       "3     4    14\n",
       "4     5    15\n",
       "5     6    16\n",
       "6     7    17\n",
       "7     8    18\n",
       "8     9    19\n",
       "9    10    20"
      ]
     },
     "execution_count": 10,
     "metadata": {},
     "output_type": "execute_result"
    }
   ],
   "source": [
    "import pandas as pd\n",
    "t = pd.DataFrame({'col1': [x+1 for x in range(10)], 'col2': [x+1 for x in range(10,20)]})\n",
    "t"
   ]
  },
  {
   "cell_type": "code",
   "execution_count": 15,
   "id": "looking-traveler",
   "metadata": {},
   "outputs": [],
   "source": [
    "t.insert(1, 'month', 'January')#t[t['col1'] == 1]['col2'][0])"
   ]
  },
  {
   "cell_type": "code",
   "execution_count": 16,
   "id": "finite-rouge",
   "metadata": {},
   "outputs": [
    {
     "data": {
      "text/html": [
       "<div>\n",
       "<style scoped>\n",
       "    .dataframe tbody tr th:only-of-type {\n",
       "        vertical-align: middle;\n",
       "    }\n",
       "\n",
       "    .dataframe tbody tr th {\n",
       "        vertical-align: top;\n",
       "    }\n",
       "\n",
       "    .dataframe thead th {\n",
       "        text-align: right;\n",
       "    }\n",
       "</style>\n",
       "<table border=\"1\" class=\"dataframe\">\n",
       "  <thead>\n",
       "    <tr style=\"text-align: right;\">\n",
       "      <th></th>\n",
       "      <th>col1</th>\n",
       "      <th>col3</th>\n",
       "      <th>new_col_name</th>\n",
       "      <th>col2</th>\n",
       "    </tr>\n",
       "  </thead>\n",
       "  <tbody>\n",
       "    <tr>\n",
       "      <th>0</th>\n",
       "      <td>1</td>\n",
       "      <td>11</td>\n",
       "      <td>January</td>\n",
       "      <td>11</td>\n",
       "    </tr>\n",
       "    <tr>\n",
       "      <th>1</th>\n",
       "      <td>2</td>\n",
       "      <td>11</td>\n",
       "      <td>January</td>\n",
       "      <td>12</td>\n",
       "    </tr>\n",
       "    <tr>\n",
       "      <th>2</th>\n",
       "      <td>3</td>\n",
       "      <td>11</td>\n",
       "      <td>January</td>\n",
       "      <td>13</td>\n",
       "    </tr>\n",
       "    <tr>\n",
       "      <th>3</th>\n",
       "      <td>4</td>\n",
       "      <td>11</td>\n",
       "      <td>January</td>\n",
       "      <td>14</td>\n",
       "    </tr>\n",
       "    <tr>\n",
       "      <th>4</th>\n",
       "      <td>5</td>\n",
       "      <td>11</td>\n",
       "      <td>January</td>\n",
       "      <td>15</td>\n",
       "    </tr>\n",
       "    <tr>\n",
       "      <th>5</th>\n",
       "      <td>6</td>\n",
       "      <td>11</td>\n",
       "      <td>January</td>\n",
       "      <td>16</td>\n",
       "    </tr>\n",
       "    <tr>\n",
       "      <th>6</th>\n",
       "      <td>7</td>\n",
       "      <td>11</td>\n",
       "      <td>January</td>\n",
       "      <td>17</td>\n",
       "    </tr>\n",
       "    <tr>\n",
       "      <th>7</th>\n",
       "      <td>8</td>\n",
       "      <td>11</td>\n",
       "      <td>January</td>\n",
       "      <td>18</td>\n",
       "    </tr>\n",
       "    <tr>\n",
       "      <th>8</th>\n",
       "      <td>9</td>\n",
       "      <td>11</td>\n",
       "      <td>January</td>\n",
       "      <td>19</td>\n",
       "    </tr>\n",
       "    <tr>\n",
       "      <th>9</th>\n",
       "      <td>10</td>\n",
       "      <td>11</td>\n",
       "      <td>January</td>\n",
       "      <td>20</td>\n",
       "    </tr>\n",
       "  </tbody>\n",
       "</table>\n",
       "</div>"
      ],
      "text/plain": [
       "   col1  col3 new_col_name  col2\n",
       "0     1    11      January    11\n",
       "1     2    11      January    12\n",
       "2     3    11      January    13\n",
       "3     4    11      January    14\n",
       "4     5    11      January    15\n",
       "5     6    11      January    16\n",
       "6     7    11      January    17\n",
       "7     8    11      January    18\n",
       "8     9    11      January    19\n",
       "9    10    11      January    20"
      ]
     },
     "execution_count": 16,
     "metadata": {},
     "output_type": "execute_result"
    }
   ],
   "source": [
    "t"
   ]
  },
  {
   "cell_type": "code",
   "execution_count": 17,
   "id": "consolidated-charge",
   "metadata": {},
   "outputs": [
    {
     "data": {
      "text/plain": [
       "11"
      ]
     },
     "execution_count": 17,
     "metadata": {},
     "output_type": "execute_result"
    }
   ],
   "source": [
    "t[t['col1'] == 1]['col2'][0]"
   ]
  },
  {
   "cell_type": "code",
   "execution_count": null,
   "id": "sporting-championship",
   "metadata": {},
   "outputs": [],
   "source": []
  }
 ],
 "metadata": {
  "kernelspec": {
   "display_name": "Python [conda env:work]",
   "language": "python",
   "name": "conda-env-work-py"
  },
  "language_info": {
   "codemirror_mode": {
    "name": "ipython",
    "version": 3
   },
   "file_extension": ".py",
   "mimetype": "text/x-python",
   "name": "python",
   "nbconvert_exporter": "python",
   "pygments_lexer": "ipython3",
   "version": "3.7.9"
  }
 },
 "nbformat": 4,
 "nbformat_minor": 5
}
