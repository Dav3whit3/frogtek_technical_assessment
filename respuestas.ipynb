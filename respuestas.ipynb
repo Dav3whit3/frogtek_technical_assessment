{
 "cells": [
  {
   "cell_type": "code",
   "execution_count": 1,
   "id": "ahead-logan",
   "metadata": {},
   "outputs": [],
   "source": [
    "from sqlalchemy import create_engine\n",
    "import psycopg2\n",
    "import psycopg2.extras as extras"
   ]
  },
  {
   "cell_type": "code",
   "execution_count": 2,
   "id": "immediate-parking",
   "metadata": {},
   "outputs": [],
   "source": [
    "param_dic = {\n",
    "    \"host\"      : \"127.0.0.1\",\n",
    "    \"database\"  : \"taxis\",\n",
    "    \"user\"      : \"postgres\",\n",
    "    \"password\"  : \"Snowdav3\"\n",
    "}"
   ]
  },
  {
   "cell_type": "code",
   "execution_count": 3,
   "id": "upper-roulette",
   "metadata": {},
   "outputs": [
    {
     "name": "stdout",
     "output_type": "stream",
     "text": [
      "Connecting to the PostgreSQL database...\n",
      "Connection succesful\n"
     ]
    }
   ],
   "source": [
    "def connect(params_dic):\n",
    "    \"\"\" Connect to the PostgreSQL database server \"\"\"\n",
    "    conn = None\n",
    "    try:\n",
    "        # connect to the PostgreSQL server\n",
    "        print('Connecting to the PostgreSQL database...')\n",
    "        conn = psycopg2.connect(**params_dic)\n",
    "    except (Exception, psycopg2.DatabaseError) as error:\n",
    "        print(error)\n",
    "        sys.exit(1) \n",
    "    print('Connection succesful')\n",
    "    \n",
    "    return conn\n",
    "\n",
    "conn = connect(param_dic)\n",
    "cursor = conn. cursor()"
   ]
  },
  {
   "cell_type": "markdown",
   "id": "institutional-service",
   "metadata": {},
   "source": [
    "# Parte 1 - SQL"
   ]
  },
  {
   "cell_type": "markdown",
   "id": "dying-helicopter",
   "metadata": {},
   "source": [
    "1. \n",
    "    a) ¿Puedes describirnos el procedimiento que has seguido para cargar los tres ficheros?"
   ]
  },
  {
   "cell_type": "markdown",
   "id": "confidential-qualification",
   "metadata": {},
   "source": [
    "1.    \n",
    "    b) ¿Puedes compartirnos la definición de la tabla que estás usando para contestar las\n",
    "preguntas planteadas?"
   ]
  },
  {
   "cell_type": "markdown",
   "id": "grateful-evening",
   "metadata": {},
   "source": []
  },
  {
   "cell_type": "markdown",
   "id": "annoying-compiler",
   "metadata": {},
   "source": [
    "2. Una vez cargados los tres ficheros en tu base de datos, ¿cuántos registros tiene la\n",
    "tabla? Compártenos la SQL que has usado."
   ]
  },
  {
   "cell_type": "markdown",
   "id": "hazardous-formula",
   "metadata": {},
   "source": []
  },
  {
   "cell_type": "code",
   "execution_count": 4,
   "id": "answering-hawaiian",
   "metadata": {},
   "outputs": [
    {
     "name": "stdout",
     "output_type": "stream",
     "text": [
      "\n",
      "La tabla tiene 15711654 registros\n",
      "\n"
     ]
    }
   ],
   "source": [
    "table = 'yellowtaxis'\n",
    "\n",
    "row_count = f'''\n",
    "    SELECT COUNT(vendorid)\n",
    "    FROM {table};\n",
    "'''\n",
    "\n",
    "cursor.execute(row_count)\n",
    "result = cursor.fetchone();\n",
    "\n",
    "print()\n",
    "print(f\"La tabla tiene {result[0]} registros\")\n",
    "print()"
   ]
  },
  {
   "cell_type": "markdown",
   "id": "executive-individual",
   "metadata": {},
   "source": [
    "3. Para cada uno de los tres meses con datos ¿podrías decirnos cuál es el trayecto más\n",
    "corto, más largo y el trayecto medio?, en distancia y en tiempo. Compártenos la\n",
    "sentencia SQL que has usado.\n"
   ]
  },
  {
   "cell_type": "code",
   "execution_count": null,
   "id": "professional-intention",
   "metadata": {},
   "outputs": [],
   "source": [
    "def execute(query):\n",
    "    \n",
    "    cursor.execute(query)\n",
    "    result = cursor.fetchone()[0]\n",
    "    \n",
    "    return result"
   ]
  },
  {
   "cell_type": "markdown",
   "id": "infinite-resolution",
   "metadata": {},
   "source": [
    "        January"
   ]
  },
  {
   "cell_type": "code",
   "execution_count": 19,
   "id": "occasional-workstation",
   "metadata": {},
   "outputs": [
    {
     "data": {
      "text/plain": [
       "datetime.timedelta(days=5, seconds=79507)"
      ]
     },
     "execution_count": 19,
     "metadata": {},
     "output_type": "execute_result"
    }
   ],
   "source": [
    "longest_trip_time = f'''\n",
    "    SELECT (tpep_dropoff_datetime - tpep_pickup_datetime) AS trip_time\n",
    "    FROM yellowtaxis\n",
    "    WHERE month = 'January'\n",
    "    ORDER BY trip_time DESC\n",
    "    LIMIT 1;\n",
    "'''\n",
    "\n",
    "execute(longest_trip_time)"
   ]
  },
  {
   "cell_type": "code",
   "execution_count": 31,
   "id": "equipped-bible",
   "metadata": {},
   "outputs": [
    {
     "data": {
      "text/plain": [
       "datetime.timedelta(days=-2, seconds=6578)"
      ]
     },
     "execution_count": 31,
     "metadata": {},
     "output_type": "execute_result"
    }
   ],
   "source": [
    "shortest_trip_time = f'''\n",
    "    SELECT (tpep_dropoff_datetime - tpep_pickup_datetime) AS trip_time\n",
    "    FROM yellowtaxis\n",
    "    WHERE month = 'January'\n",
    "    ORDER BY trip_time ASC\n",
    "    LIMIT 1;\n",
    "    \n",
    "'''\n",
    "execute(shortest_trip_time)"
   ]
  },
  {
   "cell_type": "code",
   "execution_count": 26,
   "id": "changing-wagon",
   "metadata": {},
   "outputs": [
    {
     "data": {
      "text/plain": [
       "109.63333333333334"
      ]
     },
     "execution_count": 26,
     "metadata": {},
     "output_type": "execute_result"
    }
   ],
   "source": [
    "6578/60"
   ]
  },
  {
   "cell_type": "code",
   "execution_count": 6,
   "id": "artistic-barrel",
   "metadata": {},
   "outputs": [
    {
     "ename": "SyntaxError",
     "evalue": "f-string: empty expression not allowed (<ipython-input-6-8018f671106e>, line 13)",
     "output_type": "error",
     "traceback": [
      "\u001b[0;36m  File \u001b[0;32m\"<ipython-input-6-8018f671106e>\"\u001b[0;36m, line \u001b[0;32m13\u001b[0m\n\u001b[0;31m    LIMIT 1;'''\u001b[0m\n\u001b[0m              ^\u001b[0m\n\u001b[0;31mSyntaxError\u001b[0m\u001b[0;31m:\u001b[0m f-string: empty expression not allowed\n"
     ]
    }
   ],
   "source": [
    "def trip(month, meassure, tipo):\n",
    "    ms = ['distancia', 'tiempo']\n",
    "    t = ['corto', 'largo', 'medio']\n",
    "    assert meassure  in ms, f\"Specify measure from: {ms}\"\n",
    "    assert tipo in t, f\"Specify type from: {t}\"\n",
    "    time = 'tpep_pickup_datetime - tpep_dropoff_datetime'\n",
    "    #distance = \n",
    "    query = f'''\n",
    "        SELECT ({}) AS trip_{}\n",
    "        FROM yellowtaxis\n",
    "        WHERE month = '{}'\n",
    "        ORDER BY trip_time {}\n",
    "        LIMIT 1;'''\n",
    "    \n",
    "    if meassure == 'tiempo':\n",
    "        if tipo == 'largo':\n",
    "            query.format(time, 'time', month,'DESC')\n",
    "        elif tipo == 'corto':\n",
    "            query.format(time, 'time', 'ASC')\n",
    "        else:\n",
    "            query = f'''\n",
    "                    SELECT AVG({time}) AS trip_time_avg\n",
    "                    FROM yellowtaxis\n",
    "                ;\n",
    "            '''\n",
    "    else:\n",
    "        if tipo == 'largo':\n",
    "            query.format('trip_distance', 'distance', 'DESC')\n",
    "        elif tipo == 'corto':\n",
    "            query.format('trip_distance', 'distance', 'ASC')\n",
    "        else:\n",
    "            query = f'''\n",
    "                    SELECT AVG(trip_distance) AS trip_distance_avg\n",
    "                    FROM yellowtaxis\n",
    "                ;\n",
    "            '''            \n",
    "    cursor.execute(query)\n",
    "    result = cursor.fetchone()\n",
    "    \n",
    "    return result"
   ]
  },
  {
   "cell_type": "code",
   "execution_count": null,
   "id": "aware-walter",
   "metadata": {},
   "outputs": [],
   "source": [
    "def execute(query):\n",
    "    \n",
    "    cursor.execute(query)\n",
    "    result = cursor.fetchone()\n",
    "    \n",
    "    return result"
   ]
  },
  {
   "cell_type": "code",
   "execution_count": null,
   "id": "psychological-rebate",
   "metadata": {},
   "outputs": [],
   "source": [
    "trip('January', 'tiempo', 'largo')"
   ]
  },
  {
   "cell_type": "code",
   "execution_count": null,
   "id": "eastern-directive",
   "metadata": {},
   "outputs": [],
   "source": [
    "def longest_commute(month, tipo):\n",
    "    query = f'''\n",
    "    SELECT (tpep_pickup_datetime - tpep_dropoff_datetime) AS trip_time\n",
    "    FROM yellowtaxis\n",
    "    ORDER BY trip_time DESC\n",
    "    LIMIT 1\n",
    ";\n",
    "    '''\n",
    "    pass"
   ]
  },
  {
   "cell_type": "code",
   "execution_count": null,
   "id": "charged-earthquake",
   "metadata": {},
   "outputs": [],
   "source": [
    "def average_commute(month, tipo):\n",
    "    query = f'''\n",
    "    \n",
    "    '''\n",
    "    pass"
   ]
  },
  {
   "cell_type": "code",
   "execution_count": null,
   "id": "further-injury",
   "metadata": {},
   "outputs": [],
   "source": []
  },
  {
   "cell_type": "markdown",
   "id": "musical-guitar",
   "metadata": {},
   "source": [
    "4. Para cada uno de los tres meses con datos ¿podrías decirnos cuánta es la variación\n",
    "porcentual en el número de servicios registrados con respecto al mes anterior? Por\n",
    "ejemplo, en esta pregunta nos gustaría obtener un resultado así. Compártenos la\n",
    "sentencia SQL que has usado"
   ]
  },
  {
   "cell_type": "code",
   "execution_count": 39,
   "id": "emerging-tackle",
   "metadata": {},
   "outputs": [
    {
     "name": "stdout",
     "output_type": "stream",
     "text": [
      "            timestamp\n",
      "0 2015-04-01 23:39:58\n",
      "1 2016-04-01 23:49:58\n",
      "            timestamp  time1  time2\n",
      "0 2015-04-01 23:39:58  85198  85198\n",
      "1 2016-04-01 23:49:58  85798  85798\n"
     ]
    }
   ],
   "source": [
    "import pandas as pd\n",
    "import datetime\n",
    "\n",
    "df = pd.DataFrame({'timestamp':['2015-04-01 23:39:58','2016-04-01 23:49:58']})\n",
    "df['timestamp'] = pd.to_datetime(df['timestamp'])  \n",
    "print (df)\n",
    "\n",
    "df['time1'] = df['timestamp'].dt.hour * 3600 + \\\n",
    "              df['timestamp'].dt.minute * 60 + \\\n",
    "              df['timestamp'].dt.second\n",
    "\n",
    "df['time2'] = (pd.to_timedelta(df['timestamp'].dt.strftime('%H:%M:%S'))\n",
    "                 .dt.total_seconds().astype(int))\n",
    "print (df)\n"
   ]
  },
  {
   "cell_type": "code",
   "execution_count": 40,
   "id": "lesbian-asbestos",
   "metadata": {},
   "outputs": [
    {
     "name": "stdout",
     "output_type": "stream",
     "text": [
      "            timestamp  time1  time2\n",
      "0 2015-04-01 23:39:58  85198  85198\n",
      "1 2016-04-01 23:49:58  85798  85798\n"
     ]
    }
   ],
   "source": [
    "print (df)"
   ]
  },
  {
   "cell_type": "code",
   "execution_count": 41,
   "id": "explicit-accountability",
   "metadata": {},
   "outputs": [
    {
     "name": "stdout",
     "output_type": "stream",
     "text": [
      "-600\n"
     ]
    }
   ],
   "source": [
    "print(df['time1'][] - df['time1'][1])"
   ]
  },
  {
   "cell_type": "code",
   "execution_count": null,
   "id": "ongoing-circle",
   "metadata": {},
   "outputs": [],
   "source": []
  }
 ],
 "metadata": {
  "kernelspec": {
   "display_name": "Python [conda env:work]",
   "language": "python",
   "name": "conda-env-work-py"
  },
  "language_info": {
   "codemirror_mode": {
    "name": "ipython",
    "version": 3
   },
   "file_extension": ".py",
   "mimetype": "text/x-python",
   "name": "python",
   "nbconvert_exporter": "python",
   "pygments_lexer": "ipython3",
   "version": "3.7.9"
  }
 },
 "nbformat": 4,
 "nbformat_minor": 5
}
