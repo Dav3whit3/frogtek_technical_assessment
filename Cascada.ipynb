{
 "cells": [
  {
   "cell_type": "code",
   "execution_count": 1,
   "id": "completed-staff",
   "metadata": {},
   "outputs": [],
   "source": [
    "# Data extraction tools\n",
    "import requests\n",
    "from bs4 import BeautifulSoup\n",
    "\n",
    "#Data wrangling tools\n",
    "import pandas as pd\n",
    "import numpy as np\n",
    "\n",
    "#DataBase tools\n",
    "import psycopg2\n",
    "import psycopg2.extras as extras"
   ]
  },
  {
   "cell_type": "markdown",
   "id": "painted-river",
   "metadata": {},
   "source": [
    "# Data Extraction"
   ]
  },
  {
   "cell_type": "code",
   "execution_count": 2,
   "id": "healthy-warrant",
   "metadata": {},
   "outputs": [],
   "source": [
    "year_html = None #########"
   ]
  },
  {
   "cell_type": "code",
   "execution_count": 3,
   "id": "stuck-poster",
   "metadata": {},
   "outputs": [],
   "source": [
    "def soup(year):\n",
    "    \n",
    "    url = \"https://www1.nyc.gov/site/tlc/about/tlc-trip-record-data.page\"\n",
    "    \n",
    "    print(f\"Asking for http content from {url}\")\n",
    "    response = requests.get(url).text\n",
    "    soup = BeautifulSoup(response, \"html.parser\")\n",
    "    \n",
    "    print(f\"Filtering by year provided: {year}...\")\n",
    "    global year_html\n",
    "    year_html = soup.find_all(\"div\", id=f\"faq{year}\")[0] ##############\n",
    "    print(f\"html generated\")"
   ]
  },
  {
   "cell_type": "code",
   "execution_count": 4,
   "id": "adjustable-miller",
   "metadata": {},
   "outputs": [],
   "source": [
    "def single_month_links_df(year, month):\n",
    "    \n",
    "    months_available = [elem.get_text(strip=True) for elem in year_html.find_all(['b'])]\n",
    "    \n",
    "    print(f\"Checking month requested {month} vs months available in the html content...\")\n",
    "    if month not in months_available:\n",
    "        raise ValueError(f\"month provided does not match with available months, check spelling {months_available}\")\n",
    "    \n",
    "    print(f\"Month provided is valid. Filtering by month...\")\n",
    "    filter_by_month = year_html.find(string=f\"{month}\").parent.findNext('ul')\n",
    "    links = [elem.a['href'] for elem in filter_by_month.find_all('li')]\n",
    "    description = [elem.a.text for elem in filter_by_month.find_all('li')]\n",
    "    \n",
    "    single_month_links = pd.DataFrame({'month': month, 'links': links, 'description': description})\n",
    "    \n",
    "    pd.set_option('display.max_colwidth', None)\n",
    "    \n",
    "    return single_month_links"
   ]
  },
  {
   "cell_type": "markdown",
   "id": "hawaiian-edwards",
   "metadata": {},
   "source": [
    "def all_months_links_df(year, *month):\n",
    "    \n",
    "    links = pd.DataFrame()\n",
    "    \n",
    "    for elem in month:\n",
    "        links = links.append(single_month_links_df(year, elem), ignore_index=True)\n",
    " \n",
    "    print(\"Generating csv links table\")\n",
    "    \n",
    "    return links"
   ]
  },
  {
   "cell_type": "markdown",
   "id": "mysterious-injury",
   "metadata": {},
   "source": [
    "def csv_to_df(year, taxi_color ,*month):\n",
    "    \n",
    "    soup(year) ###\n",
    "    \n",
    "    print(f\"list of months requested: {month}\")\n",
    "    links_table = all_months_links_df(year, *month)\n",
    "    links_table = links_table[links_table['description'].str.contains(taxi_color)]['links']\n",
    "    print(links_table)\n",
    "    \n",
    "    for m in links_table:\n",
    "        print(f\"Reading csv {m}\")\n",
    "        single_df = pd.read_csv(m)\n",
    "        type_object = sintaxi_color_df.select_dtypes(include='object').columns.to_list()\n",
    "        type_object.pop()\n",
    "        for typ in type_object:\n",
    "            single_df[f\"{typ}\"] = pd.to_datetime(single_df[f\"{typ}\"], yearfirst=True, format=\"%Y/%m/%d\")\n",
    "         \n",
    "        single_df.to_csv(taxi_color + '_' + m[-11:-4] + '.csv')\n",
    "    \n",
    "    print(\"Process completed\")"
   ]
  },
  {
   "cell_type": "markdown",
   "id": "temporal-description",
   "metadata": {},
   "source": [
    "# Data Wrangling"
   ]
  },
  {
   "cell_type": "code",
   "execution_count": 5,
   "id": "creative-puppy",
   "metadata": {},
   "outputs": [],
   "source": [
    "def csv_to_df(year, taxi_color ,month):\n",
    "    \n",
    "    soup(year) ###\n",
    "        \n",
    "    print(f\"Month requested: {month}\")\n",
    "    link = single_month_links_df(year, month)\n",
    "\n",
    "    link = link[link['description'].str.contains(taxi_color)]['links'][0]\n",
    "    print(f\"Reading csv {link}\")\n",
    "    \n",
    "    month_df = pd.read_csv(link)\n",
    "    type_object = month_df.select_dtypes(include='object').columns.to_list()\n",
    "    type_object.pop()\n",
    "    for typ in type_object:\n",
    "        month_df[f\"{typ}\"] = pd.to_datetime(month_df[f\"{typ}\"], yearfirst=True, format=\"%Y/%m/%d\")\n",
    "    \n",
    "    return month_df"
   ]
  },
  {
   "cell_type": "code",
   "execution_count": null,
   "id": "verbal-relative",
   "metadata": {},
   "outputs": [
    {
     "name": "stdout",
     "output_type": "stream",
     "text": [
      "Asking for http content from https://www1.nyc.gov/site/tlc/about/tlc-trip-record-data.page\n",
      "Filtering by year provided: 2020...\n",
      "html generated\n",
      "Month requested: January\n",
      "Checking month requested January vs months available in the html content...\n",
      "Month provided is valid. Filtering by month...\n",
      "Reading csv https://s3.amazonaws.com/nyc-tlc/trip+data/yellow_tripdata_2020-01.csv\n"
     ]
    }
   ],
   "source": [
    "yellowtaxis_2020_january = csv_to_df(2020, 'Yellow', 'January')\n",
    "yellowtaxis_2020_january"
   ]
  },
  {
   "cell_type": "code",
   "execution_count": null,
   "id": "applicable-optimization",
   "metadata": {},
   "outputs": [],
   "source": [
    "tuples = [tuple(x) for x in yellowtaxis_2020_january.to_numpy()]\n",
    "tuples[:2]"
   ]
  },
  {
   "cell_type": "code",
   "execution_count": null,
   "id": "considerable-accountability",
   "metadata": {},
   "outputs": [],
   "source": [
    "asdafa"
   ]
  },
  {
   "cell_type": "markdown",
   "id": "minus-version",
   "metadata": {},
   "source": [
    "# DataBase creation"
   ]
  },
  {
   "cell_type": "code",
   "execution_count": null,
   "id": "former-plastic",
   "metadata": {},
   "outputs": [],
   "source": [
    "#establishing the connection\n",
    "conn = psycopg2.connect(\n",
    "   database=\"postgres\", user='postgres', password='Snowdav3', host='127.0.0.1', port= '5432'\n",
    ")\n",
    "\n",
    "conn.autocommit = True\n",
    "\n",
    "#Creating a cursor object using the cursor() method\n",
    "cursor = conn.cursor()\n",
    "\n",
    "#Preparing query to create a database\n",
    "sql = '''CREATE database taxis''';\n",
    "\n",
    "#Creating a database\n",
    "cursor.execute(sql)\n",
    "print(\"Database created successfully........\")\n",
    "\n",
    "#Closing the connection\n",
    "conn.close()"
   ]
  },
  {
   "cell_type": "code",
   "execution_count": null,
   "id": "acceptable-rachel",
   "metadata": {},
   "outputs": [],
   "source": [
    "# DataBase conection"
   ]
  },
  {
   "cell_type": "code",
   "execution_count": null,
   "id": "terminal-rubber",
   "metadata": {},
   "outputs": [],
   "source": [
    "param_dic = {\n",
    "    \"host\"      : \"127.0.0.1\",\n",
    "    \"database\"  : \"taxis\",\n",
    "    \"user\"      : \"postgres\",\n",
    "    \"password\"  : \"Snowdav3\"\n",
    "}"
   ]
  },
  {
   "cell_type": "code",
   "execution_count": null,
   "id": "prescribed-martial",
   "metadata": {},
   "outputs": [],
   "source": [
    "def connect(params_dic):\n",
    "    \"\"\" Connect to the PostgreSQL database server \"\"\"\n",
    "    conn = None\n",
    "    try:\n",
    "        # connect to the PostgreSQL server\n",
    "        print('Connecting to the PostgreSQL database...')\n",
    "        conn = psycopg2.connect(**params_dic)\n",
    "    except (Exception, psycopg2.DatabaseError) as error:\n",
    "        print(error)\n",
    "        sys.exit(1) \n",
    "    print('Connection succesful')\n",
    "    \n",
    "    return conn"
   ]
  },
  {
   "cell_type": "code",
   "execution_count": null,
   "id": "unlikely-airport",
   "metadata": {},
   "outputs": [],
   "source": [
    "conn = connect(param_dic)"
   ]
  },
  {
   "cell_type": "markdown",
   "id": "assigned-twelve",
   "metadata": {},
   "source": [
    "# Creating Table in the DataBase"
   ]
  },
  {
   "cell_type": "code",
   "execution_count": null,
   "id": "extended-clearance",
   "metadata": {},
   "outputs": [],
   "source": [
    "def creating_table():\n",
    "    cursor = conn.cursor()\n",
    "    \n",
    "    sql ='''CREATE TABLE yellowtaxis(\n",
    "       VendorID float,\n",
    "       tpep_pickup_datetime timestamp,\n",
    "       tpep_dropoff_datetime timestamp,\n",
    "       passenger_count float,\n",
    "       trip_distance float,\n",
    "       RatecodeID float,\n",
    "       store_and_fwd_flag varchar,\n",
    "       PULocationID float,\n",
    "       DOLocationID float,\n",
    "       payment_type float,\n",
    "       fare_amount float,\n",
    "       extra float,\n",
    "       mta_tax float,\n",
    "       tip_amount float,\n",
    "       tolls_amount float,\n",
    "       improvement_surcharge float,\n",
    "       total_amount float,\n",
    "       congestion_surcharge float\n",
    "    );'''\n",
    "    \n",
    "    cursor.execute(sql)\n",
    "    print(\"Table created\")\n",
    "    conn.commit()\n",
    "    cursor.close()\n",
    "    print(\"Cursor object closed\")\n",
    "    conn.rollback()\n",
    "    conn.close()\n",
    "    print(\"conn closed\")"
   ]
  },
  {
   "cell_type": "code",
   "execution_count": null,
   "id": "boring-vinyl",
   "metadata": {},
   "outputs": [],
   "source": [
    "creating_table"
   ]
  },
  {
   "cell_type": "markdown",
   "id": "complimentary-croatia",
   "metadata": {},
   "source": [
    "# DataBase insertion"
   ]
  },
  {
   "cell_type": "code",
   "execution_count": null,
   "id": "reduced-ribbon",
   "metadata": {},
   "outputs": [],
   "source": [
    "def execute_batch(conn, df, table, page_size=100):\n",
    "    \"\"\"\n",
    "    Using psycopg2.extras.execute_batch() to insert the dataframe\n",
    "    \"\"\"\n",
    "    print(\"Converting DataFrame rows into tuples\")\n",
    "    tuples = [tuple(x) for x in df.to_numpy()]\n",
    "    # Comma-separated dataframe columns\n",
    "    cols = ','.join(list(df.columns))\n",
    "    # SQL quert to execute\n",
    "    query  = \"INSERT INTO %s(%s) VALUES(%%s,%%s,%%s,%%s,%%s,%%s,%%s,%%s,%%s,%%s,%%s,%%s,%%s,%%s,%%s,%%s,%%s,%%s)\" % (table, cols)\n",
    "    cursor = conn.cursor()\n",
    "    try:\n",
    "        print(f\"Inserting values into the {table} table\")\n",
    "        extras.execute_batch(cursor, query, tuples, page_size)\n",
    "        conn.commit()\n",
    "    except (Exception, psycopg2.DatabaseError) as error:\n",
    "        print(\"Error: %s\" % error)\n",
    "        conn.rollback()\n",
    "        cursor.close()\n",
    "        return 1\n",
    "    print(f\"Batch executed succesfully, all dataframe values inserted into the {table} table at {cursor.connection}\")\n",
    "    cursor.close()\n",
    "    \n",
    "execute_batch(conn, prueba, 'yellowtaxis') #######"
   ]
  },
  {
   "cell_type": "code",
   "execution_count": null,
   "id": "severe-andrews",
   "metadata": {},
   "outputs": [],
   "source": []
  },
  {
   "cell_type": "code",
   "execution_count": null,
   "id": "significant-cornell",
   "metadata": {},
   "outputs": [],
   "source": []
  },
  {
   "cell_type": "code",
   "execution_count": null,
   "id": "intimate-spine",
   "metadata": {},
   "outputs": [],
   "source": [
    "def execute_multiple_batch(year: int, taxi_color: str, *months, conn, df, table, page_size=100):\n",
    "    pass"
   ]
  },
  {
   "cell_type": "code",
   "execution_count": null,
   "id": "alone-improvement",
   "metadata": {},
   "outputs": [],
   "source": []
  }
 ],
 "metadata": {
  "kernelspec": {
   "display_name": "Python [conda env:work]",
   "language": "python",
   "name": "conda-env-work-py"
  },
  "language_info": {
   "codemirror_mode": {
    "name": "ipython",
    "version": 3
   },
   "file_extension": ".py",
   "mimetype": "text/x-python",
   "name": "python",
   "nbconvert_exporter": "python",
   "pygments_lexer": "ipython3",
   "version": "3.7.9"
  }
 },
 "nbformat": 4,
 "nbformat_minor": 5
}
